{
  "nbformat": 4,
  "nbformat_minor": 0,
  "metadata": {
    "colab": {
      "name": "P3_MovieGenre_Final.ipynb",
      "provenance": [],
      "collapsed_sections": []
    },
    "kernelspec": {
      "name": "python3",
      "display_name": "Python 3"
    }
  },
  "cells": [
    {
      "cell_type": "markdown",
      "metadata": {
        "id": "eUzS1KE5klsI",
        "colab_type": "text"
      },
      "source": [
        "\n",
        "<br><h1> <img src=\"https://serea2017.uniandes.edu.co/images/Logo.png\" height=\"120\" width=\"400\" align=\"Center\" /><br>\n",
        "\n",
        "<br>\n",
        "<center> <h2>Maestría en Inteligencia Analítica para la Toma de Decisiones</h2> </center>\n",
        "<center> <h3>Modelos avanzados para análisis de datos 1</h3> </center>\n",
        "<br>\n",
        "<h3>P3 - Move Genre Prediction</h3>\n",
        "\n",
        " \n",
        "\n",
        "##### Presentado por:\n",
        "    Nidia Marcela Ortiz Sandoval      (199713132)\n",
        "    Luis Jorge Garcia Camargo         (201920053)\n",
        "    Jairo Alberto Pedraza Corredor    (201924260)\n",
        "    Carlos Andres Paez Rojas          (201924257)\n",
        "\n",
        " \n",
        "\n",
        "<h4> Julio 2020 </h4>\n",
        "<br>\n",
        "\n",
        "\n",
        "# Movie Genre Classification\n",
        "\n",
        "Classify a movie genre based on its plot.\n",
        "\n",
        "<img src=\"moviegenre.png\"\n",
        "     style=\"float: left; margin-right: 10px;\" />\n",
        "\n",
        "\n",
        "\n",
        "\n",
        "https://www.kaggle.com/c/miia4201-202019-p3-moviegenreclassification/overview\n",
        "\n",
        "### Data\n",
        "\n",
        "Input:\n",
        "- movie plot\n",
        "\n",
        "Output:\n",
        "Probability of the movie belong to each genre\n",
        "\n",
        "\n",
        "### Evaluation\n",
        "\n",
        "- 20% API\n",
        "- 30% Report with all the details of the solution, the analysis and the conclusions. The report cannot exceed 10 pages, must be send in PDF format and must be self-contained.\n",
        "- 50% Performance in the Kaggle competition (The grade for each group will be proportional to the ranking it occupies in the competition. The group in the first place will obtain 5 points, for each position below, 0.25 points will be subtracted, that is: first place: 5 points, second: 4.75 points, third place: 4.50 points ... eleventh place: 2.50 points, twelfth place: 2.25 points).\n",
        "\n",
        "• The project must be carried out in the groups assigned for module 4.\n",
        "• Use clear and rigorous procedures.\n",
        "• The delivery of the project is on July 12, 2020, 11:59 pm, through Sicua + (Upload: the API and the report in PDF format).\n",
        "• No projects will be received after the delivery time or by any other means than the one established. \n",
        "\n",
        "\n",
        "\n",
        "\n",
        "### Acknowledgements\n",
        "\n",
        "We thank Professor Fabio Gonzalez, Ph.D. and his student John Arevalo for providing this dataset.\n",
        "\n",
        "See https://arxiv.org/abs/1702.01992"
      ]
    },
    {
      "cell_type": "markdown",
      "metadata": {
        "id": "3K8G3DSJklsK",
        "colab_type": "text"
      },
      "source": [
        "## Sample Submission"
      ]
    },
    {
      "cell_type": "code",
      "metadata": {
        "id": "NCXfRzDUk3NN",
        "colab_type": "code",
        "colab": {
          "base_uri": "https://localhost:8080/",
          "height": 104
        },
        "outputId": "6a65e219-e5c2-4621-a96a-b1e791b481b8"
      },
      "source": [
        "pip install scikit-multilearn"
      ],
      "execution_count": null,
      "outputs": [
        {
          "output_type": "stream",
          "text": [
            "Collecting scikit-multilearn\n",
            "\u001b[?25l  Downloading https://files.pythonhosted.org/packages/bb/1f/e6ff649c72a1cdf2c7a1d31eb21705110ce1c5d3e7e26b2cc300e1637272/scikit_multilearn-0.2.0-py3-none-any.whl (89kB)\n",
            "\r\u001b[K     |███▊                            | 10kB 16.6MB/s eta 0:00:01\r\u001b[K     |███████▍                        | 20kB 1.8MB/s eta 0:00:01\r\u001b[K     |███████████                     | 30kB 2.3MB/s eta 0:00:01\r\u001b[K     |██████████████▊                 | 40kB 2.5MB/s eta 0:00:01\r\u001b[K     |██████████████████▍             | 51kB 2.0MB/s eta 0:00:01\r\u001b[K     |██████████████████████          | 61kB 2.3MB/s eta 0:00:01\r\u001b[K     |█████████████████████████▊      | 71kB 2.5MB/s eta 0:00:01\r\u001b[K     |█████████████████████████████▍  | 81kB 2.8MB/s eta 0:00:01\r\u001b[K     |████████████████████████████████| 92kB 2.4MB/s \n",
            "\u001b[?25hInstalling collected packages: scikit-multilearn\n",
            "Successfully installed scikit-multilearn-0.2.0\n"
          ],
          "name": "stdout"
        }
      ]
    },
    {
      "cell_type": "code",
      "metadata": {
        "id": "hfWt5pocklsK",
        "colab_type": "code",
        "colab": {}
      },
      "source": [
        "import pandas as pd\n",
        "import os\n",
        "import numpy as np\n",
        "import nltk\n",
        "import re\n",
        "import seaborn as sns\n",
        "import matplotlib.pyplot as plt\n",
        "from skmultilearn.problem_transform import ClassifierChain\n",
        "from skmultilearn.problem_transform import LabelPowerset\n",
        "\n",
        "from sklearn.linear_model import LogisticRegression\n",
        "\n",
        "from sklearn.feature_extraction.text import CountVectorizer\n",
        "from sklearn.preprocessing import MultiLabelBinarizer\n",
        "from sklearn.multiclass import OneVsRestClassifier\n",
        "from sklearn.ensemble import RandomForestRegressor, RandomForestClassifier\n",
        "from sklearn.metrics import r2_score, roc_auc_score\n",
        "from sklearn.model_selection import train_test_split\n",
        "\n",
        "\n",
        "from sklearn.pipeline import Pipeline\n",
        "from sklearn.multiclass import OneVsRestClassifier\n",
        "from sklearn.svm import LinearSVC\n",
        "from sklearn.feature_extraction.text import TfidfVectorizer\n",
        "\n",
        "\n",
        "from lightgbm import LGBMClassifier,LGBMRegressor\n",
        "from catboost import CatBoostRegressor\n",
        "import xgboost as xgb\n",
        "from sklearn.metrics import classification_report\n",
        "from sklearn.svm import LinearSVC\n",
        "from sklearn.model_selection import GridSearchCV\n",
        "from sklearn.svm import SVC"
      ],
      "execution_count": null,
      "outputs": []
    },
    {
      "cell_type": "code",
      "metadata": {
        "id": "tqGx7ylRklsO",
        "colab_type": "code",
        "colab": {}
      },
      "source": [
        "dataTraining = pd.read_csv('https://github.com/albahnsen/AdvancedMethodsDataAnalysisClass/raw/master/datasets/dataTraining.zip', encoding='UTF-8', index_col=0)\n",
        "dataTesting = pd.read_csv('https://github.com/albahnsen/AdvancedMethodsDataAnalysisClass/raw/master/datasets/dataTesting.zip', encoding='UTF-8', index_col=0)"
      ],
      "execution_count": null,
      "outputs": []
    },
    {
      "cell_type": "code",
      "metadata": {
        "id": "8Cbr5i8DklsR",
        "colab_type": "code",
        "colab": {
          "base_uri": "https://localhost:8080/",
          "height": 202
        },
        "outputId": "c8ad1824-e781-4147-c728-4957f67c3597"
      },
      "source": [
        "dataTraining.head()"
      ],
      "execution_count": null,
      "outputs": [
        {
          "output_type": "execute_result",
          "data": {
            "text/html": [
              "<div>\n",
              "<style scoped>\n",
              "    .dataframe tbody tr th:only-of-type {\n",
              "        vertical-align: middle;\n",
              "    }\n",
              "\n",
              "    .dataframe tbody tr th {\n",
              "        vertical-align: top;\n",
              "    }\n",
              "\n",
              "    .dataframe thead th {\n",
              "        text-align: right;\n",
              "    }\n",
              "</style>\n",
              "<table border=\"1\" class=\"dataframe\">\n",
              "  <thead>\n",
              "    <tr style=\"text-align: right;\">\n",
              "      <th></th>\n",
              "      <th>year</th>\n",
              "      <th>title</th>\n",
              "      <th>plot</th>\n",
              "      <th>genres</th>\n",
              "      <th>rating</th>\n",
              "    </tr>\n",
              "  </thead>\n",
              "  <tbody>\n",
              "    <tr>\n",
              "      <th>3107</th>\n",
              "      <td>2003</td>\n",
              "      <td>Most</td>\n",
              "      <td>most is the story of a single father who takes...</td>\n",
              "      <td>['Short', 'Drama']</td>\n",
              "      <td>8.0</td>\n",
              "    </tr>\n",
              "    <tr>\n",
              "      <th>900</th>\n",
              "      <td>2008</td>\n",
              "      <td>How to Be a Serial Killer</td>\n",
              "      <td>a serial killer decides to teach the secrets o...</td>\n",
              "      <td>['Comedy', 'Crime', 'Horror']</td>\n",
              "      <td>5.6</td>\n",
              "    </tr>\n",
              "    <tr>\n",
              "      <th>6724</th>\n",
              "      <td>1941</td>\n",
              "      <td>A Woman's Face</td>\n",
              "      <td>in sweden ,  a female blackmailer with a disfi...</td>\n",
              "      <td>['Drama', 'Film-Noir', 'Thriller']</td>\n",
              "      <td>7.2</td>\n",
              "    </tr>\n",
              "    <tr>\n",
              "      <th>4704</th>\n",
              "      <td>1954</td>\n",
              "      <td>Executive Suite</td>\n",
              "      <td>in a friday afternoon in new york ,  the presi...</td>\n",
              "      <td>['Drama']</td>\n",
              "      <td>7.4</td>\n",
              "    </tr>\n",
              "    <tr>\n",
              "      <th>2582</th>\n",
              "      <td>1990</td>\n",
              "      <td>Narrow Margin</td>\n",
              "      <td>in los angeles ,  the editor of a publishing h...</td>\n",
              "      <td>['Action', 'Crime', 'Thriller']</td>\n",
              "      <td>6.6</td>\n",
              "    </tr>\n",
              "  </tbody>\n",
              "</table>\n",
              "</div>"
            ],
            "text/plain": [
              "      year  ... rating\n",
              "3107  2003  ...    8.0\n",
              "900   2008  ...    5.6\n",
              "6724  1941  ...    7.2\n",
              "4704  1954  ...    7.4\n",
              "2582  1990  ...    6.6\n",
              "\n",
              "[5 rows x 5 columns]"
            ]
          },
          "metadata": {
            "tags": []
          },
          "execution_count": 4
        }
      ]
    },
    {
      "cell_type": "code",
      "metadata": {
        "id": "PtaTUcIqklsU",
        "colab_type": "code",
        "colab": {
          "base_uri": "https://localhost:8080/",
          "height": 202
        },
        "outputId": "167dd055-262c-43da-8ce8-5ddfbebe70b8"
      },
      "source": [
        "dataTesting.head()"
      ],
      "execution_count": null,
      "outputs": [
        {
          "output_type": "execute_result",
          "data": {
            "text/html": [
              "<div>\n",
              "<style scoped>\n",
              "    .dataframe tbody tr th:only-of-type {\n",
              "        vertical-align: middle;\n",
              "    }\n",
              "\n",
              "    .dataframe tbody tr th {\n",
              "        vertical-align: top;\n",
              "    }\n",
              "\n",
              "    .dataframe thead th {\n",
              "        text-align: right;\n",
              "    }\n",
              "</style>\n",
              "<table border=\"1\" class=\"dataframe\">\n",
              "  <thead>\n",
              "    <tr style=\"text-align: right;\">\n",
              "      <th></th>\n",
              "      <th>year</th>\n",
              "      <th>title</th>\n",
              "      <th>plot</th>\n",
              "    </tr>\n",
              "  </thead>\n",
              "  <tbody>\n",
              "    <tr>\n",
              "      <th>1</th>\n",
              "      <td>1999</td>\n",
              "      <td>Message in a Bottle</td>\n",
              "      <td>who meets by fate ,  shall be sealed by fate ....</td>\n",
              "    </tr>\n",
              "    <tr>\n",
              "      <th>4</th>\n",
              "      <td>1978</td>\n",
              "      <td>Midnight Express</td>\n",
              "      <td>the true story of billy hayes ,  an american c...</td>\n",
              "    </tr>\n",
              "    <tr>\n",
              "      <th>5</th>\n",
              "      <td>1996</td>\n",
              "      <td>Primal Fear</td>\n",
              "      <td>martin vail left the chicago da ' s office to ...</td>\n",
              "    </tr>\n",
              "    <tr>\n",
              "      <th>6</th>\n",
              "      <td>1950</td>\n",
              "      <td>Crisis</td>\n",
              "      <td>husband and wife americans dr .  eugene and mr...</td>\n",
              "    </tr>\n",
              "    <tr>\n",
              "      <th>7</th>\n",
              "      <td>1959</td>\n",
              "      <td>The Tingler</td>\n",
              "      <td>the coroner and scientist dr .  warren chapin ...</td>\n",
              "    </tr>\n",
              "  </tbody>\n",
              "</table>\n",
              "</div>"
            ],
            "text/plain": [
              "   year                title                                               plot\n",
              "1  1999  Message in a Bottle  who meets by fate ,  shall be sealed by fate ....\n",
              "4  1978     Midnight Express  the true story of billy hayes ,  an american c...\n",
              "5  1996          Primal Fear  martin vail left the chicago da ' s office to ...\n",
              "6  1950               Crisis  husband and wife americans dr .  eugene and mr...\n",
              "7  1959          The Tingler  the coroner and scientist dr .  warren chapin ..."
            ]
          },
          "metadata": {
            "tags": []
          },
          "execution_count": 5
        }
      ]
    },
    {
      "cell_type": "markdown",
      "metadata": {
        "id": "G7Ys5XPG2e5u",
        "colab_type": "text"
      },
      "source": [
        "## Creación del Target\n",
        "\n",
        "Al tratarse de un problema Multi-label; una película puede tener más de un género asociado, para abordar este problema, será necesario crear un MultilabelBinarizer, que permitirá trabajar como un vector binario en $R^{24}$ la variable de respuesta.\n",
        "\n",
        "\n"
      ]
    },
    {
      "cell_type": "code",
      "metadata": {
        "id": "q_nb-OmqJwWM",
        "colab_type": "code",
        "colab": {}
      },
      "source": [
        "dataTraining['genres'] = dataTraining['genres'].map(lambda x: eval(x))\n",
        "\n",
        "le = MultiLabelBinarizer()\n",
        "y_genres = le.fit_transform(dataTraining['genres'])"
      ],
      "execution_count": null,
      "outputs": []
    },
    {
      "cell_type": "markdown",
      "metadata": {
        "id": "VDS8-HM7klso",
        "colab_type": "text"
      },
      "source": [
        "## Estadísticas Descriptivas\n",
        "\n",
        "Para un mejor entendimiento del problema, es necesario una etapa descriptiva previa al modelamiento, en primer lugar se analizará el volumen de géneros en la base de entrenamiento.\n"
      ]
    },
    {
      "cell_type": "code",
      "metadata": {
        "id": "bF8UhDlZklso",
        "colab_type": "code",
        "colab": {
          "base_uri": "https://localhost:8080/",
          "height": 34
        },
        "outputId": "49789e92-7936-412b-b454-8f66ba99d72a"
      },
      "source": [
        "todos_genres = sum(dataTraining['genres'],[])\n",
        "len(set(todos_genres))"
      ],
      "execution_count": null,
      "outputs": [
        {
          "output_type": "execute_result",
          "data": {
            "text/plain": [
              "24"
            ]
          },
          "metadata": {
            "tags": []
          },
          "execution_count": 7
        }
      ]
    },
    {
      "cell_type": "code",
      "metadata": {
        "id": "dOCC-L4Yklsq",
        "colab_type": "code",
        "colab": {}
      },
      "source": [
        "todos_genres = nltk.FreqDist(todos_genres) \n",
        "all_genres_df = pd.DataFrame({'Genre': list(todos_genres.keys()), \n",
        "                              'Count': list(todos_genres.values())})"
      ],
      "execution_count": null,
      "outputs": []
    },
    {
      "cell_type": "code",
      "metadata": {
        "id": "aJcmW_Umklss",
        "colab_type": "code",
        "colab": {}
      },
      "source": [
        "g = all_genres_df.nlargest(columns=\"Count\", n = 50) "
      ],
      "execution_count": null,
      "outputs": []
    },
    {
      "cell_type": "code",
      "metadata": {
        "id": "1NqwCxWtklsu",
        "colab_type": "code",
        "colab": {
          "base_uri": "https://localhost:8080/",
          "height": 877
        },
        "outputId": "fb40c964-44af-4b40-cb2c-c3205657a5cf"
      },
      "source": [
        "plt.figure(figsize=(12,15)) \n",
        "ax = sns.barplot(data=g, x= \"Count\", y = \"Genre\") \n",
        "ax.set(ylabel = 'Count') \n",
        "plt.show()"
      ],
      "execution_count": null,
      "outputs": [
        {
          "output_type": "display_data",
          "data": {
            "image/png": "[encoded data removed]",
            "text/plain": [
              "<Figure size 864x1080 with 1 Axes>"
            ]
          },
          "metadata": {
            "tags": [],
            "needs_background": "light"
          }
        }
      ]
    },
    {
      "cell_type": "markdown",
      "metadata": {
        "id": "Tm6aN18e3yyX",
        "colab_type": "text"
      },
      "source": [
        "La mayor proporción de géneros se encuentra concentrada en Drama, Comedia, Thriller y Romance. Cabe recordar, que la suma de las frecuencias no será el total de películas, ya que una película puede tener más de un género."
      ]
    },
    {
      "cell_type": "markdown",
      "metadata": {
        "id": "oDxSh-zLklsX",
        "colab_type": "text"
      },
      "source": [
        "## Limpieza de datos\n",
        "\n",
        "En primer lugar se quitarán carácteres especiales, contracciones más comunes, carácteres extraños y se pasarán todas las palabras a minúscula.\n"
      ]
    },
    {
      "cell_type": "code",
      "metadata": {
        "colab_type": "code",
        "id": "eW6R26kz8RGv",
        "colab": {}
      },
      "source": [
        "def clean_text(text):\n",
        "    # remove backslash-apostrophe \n",
        "    text = re.sub(\"\\'\", \"\", text) \n",
        "    text = re.sub(\" n \", \" \", text) \n",
        "    text = re.sub(r\"won't\", \"will not\", text)\n",
        "    text = re.sub(r\"can\\'t\", \"can not\", text)\n",
        "    # remove everything except alphabets \n",
        "    text = re.sub(\"[^a-zA-Z]\",\" \",text) \n",
        "    # remove whitespaces \n",
        "    text = ' '.join(text.split()) \n",
        "    # convert text to lowercase \n",
        "    text = text.lower() \n",
        "    \n",
        "    return text\n",
        "\n",
        "dataTraining['clean_plot'] = dataTraining['plot'].apply(lambda x: clean_text(x))\n",
        "dataTraining['clean_title'] = dataTraining['title'].apply(lambda x: clean_text(x))\n",
        "\n",
        "dataTesting['clean_plot'] = dataTesting['plot'].apply(lambda x: clean_text(x))\n",
        "dataTesting['clean_title'] = dataTesting['title'].apply(lambda x: clean_text(x))"
      ],
      "execution_count": null,
      "outputs": []
    },
    {
      "cell_type": "code",
      "metadata": {
        "id": "775kyuwRklsx",
        "colab_type": "code",
        "colab": {
          "base_uri": "https://localhost:8080/",
          "height": 225
        },
        "outputId": "98021bb8-8be5-4589-cf0a-92c2bb8522dd"
      },
      "source": [
        "dataTraining['clean_plot']"
      ],
      "execution_count": null,
      "outputs": [
        {
          "output_type": "execute_result",
          "data": {
            "text/plain": [
              "3107    most is the story of a single father who takes...\n",
              "900     a serial killer decides to teach the secrets o...\n",
              "6724    in sweden a female blackmailer with a disfigur...\n",
              "4704    in a friday afternoon in new york the presiden...\n",
              "2582    in los angeles the editor of a publishing hous...\n",
              "                              ...                        \n",
              "8417    our marriage their wedding it s lesson number ...\n",
              "1592    the wandering barbarian conan alongside his go...\n",
              "1723    like a tale spun by scheherazade kismet follow...\n",
              "7605    mrs brisby a widowed mouse lives in a cinder b...\n",
              "215     tinker bell journey far north of never land to...\n",
              "Name: clean_plot, Length: 7895, dtype: object"
            ]
          },
          "metadata": {
            "tags": []
          },
          "execution_count": 12
        }
      ]
    },
    {
      "cell_type": "code",
      "metadata": {
        "id": "NztPLb6S9f_W",
        "colab_type": "code",
        "colab": {}
      },
      "source": [
        "char=[',','?','.','\"','-','(',')','\\'',' n ']\n",
        "for i in range(0,len(char)):\n",
        "  dataTraining['clean_plot']=dataTraining['clean_plot'].apply(lambda x: x.replace(char[i],''))\n",
        "  dataTraining['clean_title']=dataTraining['clean_title'].apply(lambda x: x.replace(char[i],''))\n",
        "  dataTesting['clean_plot']=dataTesting['clean_plot'].apply(lambda x: x.replace(char[i],''))\n",
        "  dataTesting['clean_title']=dataTesting['clean_title'].apply(lambda x: x.replace(char[i],''))"
      ],
      "execution_count": null,
      "outputs": []
    },
    {
      "cell_type": "code",
      "metadata": {
        "id": "ePQtMaKtklsz",
        "colab_type": "code",
        "colab": {
          "base_uri": "https://localhost:8080/",
          "height": 894
        },
        "outputId": "e0b50296-9a08-4873-fb83-6991f5801931"
      },
      "source": [
        "plt.figure(figsize=(20,20)) \n",
        "def freq_words(x, terms = 30): \n",
        "  all_words = ' '.join([text for text in x]) \n",
        "  all_words = all_words.split() \n",
        "  fdist = nltk.FreqDist(all_words) \n",
        "  words_df = pd.DataFrame({'word':list(fdist.keys()), 'count':list(fdist.values())}) \n",
        "  \n",
        "  # selecting top 20 most frequent words \n",
        "  d = words_df.nlargest(columns=\"count\", n = terms) \n",
        "  \n",
        "  # visualize words and frequencies\n",
        "  plt.figure(figsize=(12,15)) \n",
        "  ax = sns.barplot(data=d, x= \"count\", y = \"word\") \n",
        "  ax.set(ylabel = 'Word') \n",
        "  plt.show()\n",
        "  \n",
        "# print 100 most frequent words \n",
        "freq_words(dataTraining['clean_plot'], 50)\n",
        "\n",
        "  "
      ],
      "execution_count": null,
      "outputs": [
        {
          "output_type": "display_data",
          "data": {
            "text/plain": [
              "<Figure size 1440x1440 with 0 Axes>"
            ]
          },
          "metadata": {
            "tags": []
          }
        },
        {
          "output_type": "display_data",
          "data": {
            "image/png": "[encoded data removed]",
            "text/plain": [
              "<Figure size 864x1080 with 1 Axes>"
            ]
          },
          "metadata": {
            "tags": [],
            "needs_background": "light"
          }
        }
      ]
    },
    {
      "cell_type": "markdown",
      "metadata": {
        "id": "ZnAwVUsB8xzp",
        "colab_type": "text"
      },
      "source": [
        "Las palabras con mayor frecuencia en el texto hacen referencia a conectores, auxiliares, preposiciones y en general, stopwords, que seguramente harán ruido en la estimación de los modelos. Para ello se removerán, así como una lematización y paso a forma raíz de las palabras."
      ]
    },
    {
      "cell_type": "code",
      "metadata": {
        "id": "c7lznxE-A9Er",
        "colab_type": "code",
        "colab": {
          "base_uri": "https://localhost:8080/",
          "height": 173
        },
        "outputId": "8933ef5c-2313-4649-86fa-57f5bf3a57f9"
      },
      "source": [
        "import nltk\n",
        "nltk.download('stopwords')\n",
        "nltk.download('wordnet')\n",
        "nltk.download('punkt')\n",
        "nltk.download('averaged_perceptron_tagger') \n",
        "from nltk.corpus import stopwords\n",
        "\n",
        "stop_words = set(stopwords.words('english'))\n",
        "\n",
        "# function to remove stopwords\n",
        "def remove_stopwords(text):\n",
        "    no_stopword_text = [w for w in text.split() if not w in stop_words]\n",
        "    return ' '.join(no_stopword_text)"
      ],
      "execution_count": null,
      "outputs": [
        {
          "output_type": "stream",
          "text": [
            "[nltk_data] Downloading package stopwords to /root/nltk_data...\n",
            "[nltk_data]   Unzipping corpora/stopwords.zip.\n",
            "[nltk_data] Downloading package wordnet to /root/nltk_data...\n",
            "[nltk_data]   Unzipping corpora/wordnet.zip.\n",
            "[nltk_data] Downloading package punkt to /root/nltk_data...\n",
            "[nltk_data]   Unzipping tokenizers/punkt.zip.\n",
            "[nltk_data] Downloading package averaged_perceptron_tagger to\n",
            "[nltk_data]     /root/nltk_data...\n",
            "[nltk_data]   Unzipping taggers/averaged_perceptron_tagger.zip.\n"
          ],
          "name": "stdout"
        }
      ]
    },
    {
      "cell_type": "code",
      "metadata": {
        "id": "Ik1DZOYGBC2P",
        "colab_type": "code",
        "colab": {}
      },
      "source": [
        "dataTraining['clean_plot'] = dataTraining['clean_plot'].apply(lambda x: remove_stopwords(x))\n",
        "dataTraining['clean_title'] = dataTraining['clean_title'].apply(lambda x: remove_stopwords(x))\n",
        "dataTesting['clean_plot'] = dataTesting['clean_plot'].apply(lambda x: remove_stopwords(x))\n",
        "dataTesting['clean_title'] = dataTesting['clean_title'].apply(lambda x: remove_stopwords(x))"
      ],
      "execution_count": null,
      "outputs": []
    },
    {
      "cell_type": "code",
      "metadata": {
        "id": "jxyG1GckTcUu",
        "colab_type": "code",
        "colab": {
          "base_uri": "https://localhost:8080/",
          "height": 69
        },
        "outputId": "3ee53fe8-1da2-45ce-ee51-51a7621f4bc4"
      },
      "source": [
        "import nltk\n",
        "nltk.download('wordnet')"
      ],
      "execution_count": null,
      "outputs": [
        {
          "output_type": "stream",
          "text": [
            "[nltk_data] Downloading package wordnet to /root/nltk_data...\n",
            "[nltk_data]   Package wordnet is already up-to-date!\n"
          ],
          "name": "stdout"
        },
        {
          "output_type": "execute_result",
          "data": {
            "text/plain": [
              "True"
            ]
          },
          "metadata": {
            "tags": []
          },
          "execution_count": 17
        }
      ]
    },
    {
      "cell_type": "code",
      "metadata": {
        "id": "t_WiB6lUTcPQ",
        "colab_type": "code",
        "colab": {}
      },
      "source": [
        "import nltk\n",
        "from nltk.stem import WordNetLemmatizer \n",
        "from nltk.stem import PorterStemmer\n",
        "from nltk.tokenize import sent_tokenize, word_tokenize\n"
      ],
      "execution_count": null,
      "outputs": []
    },
    {
      "cell_type": "code",
      "metadata": {
        "id": "dOfOFDyATcOo",
        "colab_type": "code",
        "colab": {}
      },
      "source": [
        "lemmatizer = WordNetLemmatizer()\n",
        "ps = PorterStemmer()\n",
        "\n",
        "ar=[]\n",
        "for i in range(dataTraining.shape[0]):\n",
        "    sentence = dataTraining.clean_plot.iloc[i]\n",
        "    word_list = nltk.word_tokenize(sentence)\n",
        "    lemmatized_output = ' '.join([lemmatizer.lemmatize(w) for w in word_list])\n",
        "    ar.append(lemmatized_output)\n",
        "st=[]\n",
        "for i in range(len(ar)):\n",
        "    sentence = ar[i]\n",
        "    word_list = nltk.word_tokenize(sentence)\n",
        "    stem_output = ' '.join([ps.stem(w) for w in word_list])\n",
        "    st.append(stem_output)"
      ],
      "execution_count": null,
      "outputs": []
    },
    {
      "cell_type": "code",
      "metadata": {
        "id": "z6bp0YAETcI1",
        "colab_type": "code",
        "colab": {}
      },
      "source": [
        "dataTraining['clean_plot_2']=st"
      ],
      "execution_count": null,
      "outputs": []
    },
    {
      "cell_type": "code",
      "metadata": {
        "id": "EE_MnJ9uTcC1",
        "colab_type": "code",
        "colab": {}
      },
      "source": [
        "lemmatizer = WordNetLemmatizer()\n",
        "ps = PorterStemmer()\n",
        "\n",
        "ar=[]\n",
        "for i in range(dataTesting.shape[0]):\n",
        "    sentence = dataTesting.clean_plot.iloc[i]\n",
        "    word_list = nltk.word_tokenize(sentence)\n",
        "    lemmatized_output = ' '.join([lemmatizer.lemmatize(w) for w in word_list])\n",
        "    ar.append(lemmatized_output)\n",
        "st=[]\n",
        "for i in range(len(ar)):\n",
        "    sentence = ar[i]\n",
        "    word_list = nltk.word_tokenize(sentence)\n",
        "    stem_output = ' '.join([ps.stem(w) for w in word_list])\n",
        "    st.append(stem_output)"
      ],
      "execution_count": null,
      "outputs": []
    },
    {
      "cell_type": "code",
      "metadata": {
        "id": "_76Mjd4iTb15",
        "colab_type": "code",
        "colab": {}
      },
      "source": [
        "dataTesting['clean_plot_2']=st"
      ],
      "execution_count": null,
      "outputs": []
    },
    {
      "cell_type": "code",
      "metadata": {
        "id": "zL0uLNce2Zln",
        "colab_type": "code",
        "colab": {
          "base_uri": "https://localhost:8080/",
          "height": 877
        },
        "outputId": "cf270d26-5588-4faf-c5da-d7a0640cf8b1"
      },
      "source": [
        "freq_words(dataTraining['clean_plot_2'], 50)"
      ],
      "execution_count": null,
      "outputs": [
        {
          "output_type": "display_data",
          "data": {
            "image/png": "[encoded data removed]",
            "text/plain": [
              "<Figure size 864x1080 with 1 Axes>"
            ]
          },
          "metadata": {
            "tags": [],
            "needs_background": "light"
          }
        }
      ]
    },
    {
      "cell_type": "markdown",
      "metadata": {
        "id": "TJXFVOs5AfUe",
        "colab_type": "text"
      },
      "source": [
        "En la gráfica descriptiva del texto procesado nos encontramos con las palabras más frecuentes en las descriptivas de las descripciones son life, one y find. Palabras bastantes comunes."
      ]
    },
    {
      "cell_type": "markdown",
      "metadata": {
        "id": "fiD6zC3WAxNm",
        "colab_type": "text"
      },
      "source": [
        "# Modelos propuestos\n",
        "## Regresión Logística sobre TfidVectorizer\n",
        "\n",
        "El primer modelo propuesto es una regresión logística sobre una transformación por pesos de las descripciones."
      ]
    },
    {
      "cell_type": "code",
      "metadata": {
        "id": "4emFe-pdkltG",
        "colab_type": "code",
        "colab": {}
      },
      "source": [
        "xtrain, xval, ytrain, yval = train_test_split(dataTraining['clean_plot_2'], y_genres, test_size=0.2, random_state=9)"
      ],
      "execution_count": null,
      "outputs": []
    },
    {
      "cell_type": "code",
      "metadata": {
        "id": "EES-vudLkltI",
        "colab_type": "code",
        "colab": {}
      },
      "source": [
        "# create TF-IDF features\n",
        "tfidf_vectorizer = TfidfVectorizer(max_df=0.8, max_features=10000)\n",
        "xtrain_tfidf = tfidf_vectorizer.fit_transform(xtrain)\n",
        "xval_tfidf = tfidf_vectorizer.transform(xval)"
      ],
      "execution_count": null,
      "outputs": []
    },
    {
      "cell_type": "code",
      "metadata": {
        "id": "ymVM1nfCkltK",
        "colab_type": "code",
        "colab": {}
      },
      "source": [
        "lr = LogisticRegression()\n",
        "clf = OneVsRestClassifier(lr)"
      ],
      "execution_count": null,
      "outputs": []
    },
    {
      "cell_type": "code",
      "metadata": {
        "id": "ZGw427CIkltM",
        "colab_type": "code",
        "colab": {
          "base_uri": "https://localhost:8080/",
          "height": 190
        },
        "outputId": "7d4b8957-3348-4a7b-a93e-62f278b7e8b9"
      },
      "source": [
        "clf.fit(xtrain_tfidf, ytrain)"
      ],
      "execution_count": null,
      "outputs": [
        {
          "output_type": "execute_result",
          "data": {
            "text/plain": [
              "OneVsRestClassifier(estimator=LogisticRegression(C=1.0, class_weight=None,\n",
              "                                                 dual=False, fit_intercept=True,\n",
              "                                                 intercept_scaling=1,\n",
              "                                                 l1_ratio=None, max_iter=100,\n",
              "                                                 multi_class='auto',\n",
              "                                                 n_jobs=None, penalty='l2',\n",
              "                                                 random_state=None,\n",
              "                                                 solver='lbfgs', tol=0.0001,\n",
              "                                                 verbose=0, warm_start=False),\n",
              "                    n_jobs=None)"
            ]
          },
          "metadata": {
            "tags": []
          },
          "execution_count": 32
        }
      ]
    },
    {
      "cell_type": "code",
      "metadata": {
        "id": "ADwXzFzWkltO",
        "colab_type": "code",
        "colab": {}
      },
      "source": [
        "# make predictions for validation set\n",
        "y_pred = clf.predict_proba(xval_tfidf)"
      ],
      "execution_count": null,
      "outputs": []
    },
    {
      "cell_type": "code",
      "metadata": {
        "id": "LyC-Z7npkltQ",
        "colab_type": "code",
        "colab": {
          "base_uri": "https://localhost:8080/",
          "height": 34
        },
        "outputId": "fd435a7a-8817-4358-d964-aa60861d3eb0"
      },
      "source": [
        "roc_auc_score(yval, y_pred, average='macro')"
      ],
      "execution_count": null,
      "outputs": [
        {
          "output_type": "execute_result",
          "data": {
            "text/plain": [
              "0.8817231334613632"
            ]
          },
          "metadata": {
            "tags": []
          },
          "execution_count": 34
        }
      ]
    },
    {
      "cell_type": "markdown",
      "metadata": {
        "id": "uue6imSEMyNT",
        "colab_type": "text"
      },
      "source": [
        "Con este modelo se pudo dar cuenta la necesidad de probar diferentes metodologías Multi-label y la optimización de los parámetros en la transformación del texto a un espacio numérico; para ello se realizaron las siguientes pruebas:\n",
        "\n",
        "## Regresión logística con Classifierchain\n",
        "\n",
        "Mientras la estrategia One Vs Rest classifier ajusta un modelo para cada una de los géneros, esta estrategia de ClassifierChain ajusta un modelo en cadena para cada categoría $j$ que está asociada con las $j-1$ categorías anteriores."
      ]
    },
    {
      "cell_type": "code",
      "metadata": {
        "id": "-u6JBxnznXii",
        "colab_type": "code",
        "colab": {}
      },
      "source": [
        "xtrain_tfidf = tfidf_vectorizer.fit_transform(xtrain)\n",
        "xval_tfidf = tfidf_vectorizer.transform(xval)"
      ],
      "execution_count": null,
      "outputs": []
    },
    {
      "cell_type": "code",
      "metadata": {
        "id": "wr-YEcHTkltS",
        "colab_type": "code",
        "colab": {}
      },
      "source": [
        "classifier = ClassifierChain(LogisticRegression())"
      ],
      "execution_count": null,
      "outputs": []
    },
    {
      "cell_type": "code",
      "metadata": {
        "id": "MFONxZfqkltT",
        "colab_type": "code",
        "colab": {
          "base_uri": "https://localhost:8080/",
          "height": 163
        },
        "outputId": "4c4a7eec-c875-428c-e17a-0d38a47af3bb"
      },
      "source": [
        "classifier.fit(xtrain_tfidf, ytrain)"
      ],
      "execution_count": null,
      "outputs": [
        {
          "output_type": "execute_result",
          "data": {
            "text/plain": [
              "ClassifierChain(classifier=LogisticRegression(C=1.0, class_weight=None,\n",
              "                                              dual=False, fit_intercept=True,\n",
              "                                              intercept_scaling=1,\n",
              "                                              l1_ratio=None, max_iter=100,\n",
              "                                              multi_class='auto', n_jobs=None,\n",
              "                                              penalty='l2', random_state=None,\n",
              "                                              solver='lbfgs', tol=0.0001,\n",
              "                                              verbose=0, warm_start=False),\n",
              "                order=None, require_dense=[True, True])"
            ]
          },
          "metadata": {
            "tags": []
          },
          "execution_count": 34
        }
      ]
    },
    {
      "cell_type": "code",
      "metadata": {
        "id": "nToBBUWNkltV",
        "colab_type": "code",
        "colab": {}
      },
      "source": [
        "y_pred2 = clf.predict_proba(xval_tfidf)"
      ],
      "execution_count": null,
      "outputs": []
    },
    {
      "cell_type": "code",
      "metadata": {
        "id": "7war5tiGkltX",
        "colab_type": "code",
        "colab": {
          "base_uri": "https://localhost:8080/",
          "height": 33
        },
        "outputId": "d25504b6-bae5-4c6e-a4c8-dba4b0f7af5d"
      },
      "source": [
        "roc_auc_score(yval, y_pred2, average='macro')"
      ],
      "execution_count": null,
      "outputs": [
        {
          "output_type": "execute_result",
          "data": {
            "text/plain": [
              "0.8808571268761858"
            ]
          },
          "metadata": {
            "tags": []
          },
          "execution_count": 36
        }
      ]
    },
    {
      "cell_type": "markdown",
      "metadata": {
        "id": "ipiPIGVWVo8i",
        "colab_type": "text"
      },
      "source": [
        "## Regresión logística con LabelPowerSet\n",
        "\n",
        "Esta estrategia de transofrmación de la variables respuesta, evalúa cada una de las posibles $2^L$ combinaciones, en nuestro caso $L=24$, transformando el problema Multi-label a un problema Single label; y para cada una de las combinaciones ajusta un modelo."
      ]
    },
    {
      "cell_type": "code",
      "metadata": {
        "id": "QYP8cLMVkltY",
        "colab_type": "code",
        "colab": {}
      },
      "source": [
        "classifier = LabelPowerset(LogisticRegression())"
      ],
      "execution_count": null,
      "outputs": []
    },
    {
      "cell_type": "code",
      "metadata": {
        "id": "wq5wPHbqklta",
        "colab_type": "code",
        "colab": {
          "base_uri": "https://localhost:8080/",
          "height": 163
        },
        "outputId": "353839bd-b425-469a-cb48-5e7c0f1b3b44"
      },
      "source": [
        "classifier.fit(xtrain_tfidf, ytrain)"
      ],
      "execution_count": null,
      "outputs": [
        {
          "output_type": "execute_result",
          "data": {
            "text/plain": [
              "LabelPowerset(classifier=LogisticRegression(C=1.0, class_weight=None,\n",
              "                                            dual=False, fit_intercept=True,\n",
              "                                            intercept_scaling=1, l1_ratio=None,\n",
              "                                            max_iter=100, multi_class='auto',\n",
              "                                            n_jobs=None, penalty='l2',\n",
              "                                            random_state=None, solver='lbfgs',\n",
              "                                            tol=0.0001, verbose=0,\n",
              "                                            warm_start=False),\n",
              "              require_dense=[True, True])"
            ]
          },
          "metadata": {
            "tags": []
          },
          "execution_count": 38
        }
      ]
    },
    {
      "cell_type": "code",
      "metadata": {
        "id": "Ieq-ZW45kltc",
        "colab_type": "code",
        "colab": {}
      },
      "source": [
        "y_pred3 = classifier.predict_proba(xval_tfidf)"
      ],
      "execution_count": null,
      "outputs": []
    },
    {
      "cell_type": "code",
      "metadata": {
        "id": "rTordGTAklte",
        "colab_type": "code",
        "colab": {
          "base_uri": "https://localhost:8080/",
          "height": 411
        },
        "outputId": "3dc5d152-1db4-4f55-b3bd-fd171abf75dc"
      },
      "source": [
        "pd.DataFrame(y_pred3.todense())"
      ],
      "execution_count": null,
      "outputs": [
        {
          "output_type": "execute_result",
          "data": {
            "text/html": [
              "<div>\n",
              "<style scoped>\n",
              "    .dataframe tbody tr th:only-of-type {\n",
              "        vertical-align: middle;\n",
              "    }\n",
              "\n",
              "    .dataframe tbody tr th {\n",
              "        vertical-align: top;\n",
              "    }\n",
              "\n",
              "    .dataframe thead th {\n",
              "        text-align: right;\n",
              "    }\n",
              "</style>\n",
              "<table border=\"1\" class=\"dataframe\">\n",
              "  <thead>\n",
              "    <tr style=\"text-align: right;\">\n",
              "      <th></th>\n",
              "      <th>0</th>\n",
              "      <th>1</th>\n",
              "      <th>2</th>\n",
              "      <th>3</th>\n",
              "      <th>4</th>\n",
              "      <th>5</th>\n",
              "      <th>6</th>\n",
              "      <th>7</th>\n",
              "      <th>8</th>\n",
              "      <th>9</th>\n",
              "      <th>10</th>\n",
              "      <th>11</th>\n",
              "      <th>12</th>\n",
              "      <th>13</th>\n",
              "      <th>14</th>\n",
              "      <th>15</th>\n",
              "      <th>16</th>\n",
              "      <th>17</th>\n",
              "      <th>18</th>\n",
              "      <th>19</th>\n",
              "      <th>20</th>\n",
              "      <th>21</th>\n",
              "      <th>22</th>\n",
              "      <th>23</th>\n",
              "    </tr>\n",
              "  </thead>\n",
              "  <tbody>\n",
              "    <tr>\n",
              "      <th>0</th>\n",
              "      <td>0.143145</td>\n",
              "      <td>0.118169</td>\n",
              "      <td>0.030443</td>\n",
              "      <td>0.042275</td>\n",
              "      <td>0.427740</td>\n",
              "      <td>0.157879</td>\n",
              "      <td>0.053132</td>\n",
              "      <td>0.503085</td>\n",
              "      <td>0.077771</td>\n",
              "      <td>0.077910</td>\n",
              "      <td>0.019304</td>\n",
              "      <td>0.031012</td>\n",
              "      <td>0.102296</td>\n",
              "      <td>0.040640</td>\n",
              "      <td>0.031462</td>\n",
              "      <td>0.084313</td>\n",
              "      <td>0.000864</td>\n",
              "      <td>0.300015</td>\n",
              "      <td>0.080677</td>\n",
              "      <td>0.009590</td>\n",
              "      <td>0.030850</td>\n",
              "      <td>0.225826</td>\n",
              "      <td>0.039064</td>\n",
              "      <td>0.025681</td>\n",
              "    </tr>\n",
              "    <tr>\n",
              "      <th>1</th>\n",
              "      <td>0.136890</td>\n",
              "      <td>0.114190</td>\n",
              "      <td>0.029595</td>\n",
              "      <td>0.041830</td>\n",
              "      <td>0.377105</td>\n",
              "      <td>0.157514</td>\n",
              "      <td>0.042854</td>\n",
              "      <td>0.584321</td>\n",
              "      <td>0.076748</td>\n",
              "      <td>0.076598</td>\n",
              "      <td>0.018113</td>\n",
              "      <td>0.030624</td>\n",
              "      <td>0.098473</td>\n",
              "      <td>0.038468</td>\n",
              "      <td>0.030329</td>\n",
              "      <td>0.082962</td>\n",
              "      <td>0.000833</td>\n",
              "      <td>0.292763</td>\n",
              "      <td>0.075704</td>\n",
              "      <td>0.009508</td>\n",
              "      <td>0.029767</td>\n",
              "      <td>0.218206</td>\n",
              "      <td>0.039714</td>\n",
              "      <td>0.025673</td>\n",
              "    </tr>\n",
              "    <tr>\n",
              "      <th>2</th>\n",
              "      <td>0.199591</td>\n",
              "      <td>0.149174</td>\n",
              "      <td>0.037561</td>\n",
              "      <td>0.051993</td>\n",
              "      <td>0.367408</td>\n",
              "      <td>0.213866</td>\n",
              "      <td>0.048009</td>\n",
              "      <td>0.477457</td>\n",
              "      <td>0.095882</td>\n",
              "      <td>0.096099</td>\n",
              "      <td>0.024140</td>\n",
              "      <td>0.037957</td>\n",
              "      <td>0.129314</td>\n",
              "      <td>0.048377</td>\n",
              "      <td>0.040365</td>\n",
              "      <td>0.108424</td>\n",
              "      <td>0.001043</td>\n",
              "      <td>0.210957</td>\n",
              "      <td>0.103151</td>\n",
              "      <td>0.011599</td>\n",
              "      <td>0.036827</td>\n",
              "      <td>0.296613</td>\n",
              "      <td>0.049386</td>\n",
              "      <td>0.030652</td>\n",
              "    </tr>\n",
              "    <tr>\n",
              "      <th>3</th>\n",
              "      <td>0.190136</td>\n",
              "      <td>0.148928</td>\n",
              "      <td>0.037297</td>\n",
              "      <td>0.050823</td>\n",
              "      <td>0.352213</td>\n",
              "      <td>0.205445</td>\n",
              "      <td>0.054793</td>\n",
              "      <td>0.467511</td>\n",
              "      <td>0.095380</td>\n",
              "      <td>0.096997</td>\n",
              "      <td>0.023766</td>\n",
              "      <td>0.038026</td>\n",
              "      <td>0.144337</td>\n",
              "      <td>0.046861</td>\n",
              "      <td>0.037780</td>\n",
              "      <td>0.110806</td>\n",
              "      <td>0.001047</td>\n",
              "      <td>0.198653</td>\n",
              "      <td>0.103418</td>\n",
              "      <td>0.011705</td>\n",
              "      <td>0.039646</td>\n",
              "      <td>0.298278</td>\n",
              "      <td>0.049662</td>\n",
              "      <td>0.032982</td>\n",
              "    </tr>\n",
              "    <tr>\n",
              "      <th>4</th>\n",
              "      <td>0.171328</td>\n",
              "      <td>0.143090</td>\n",
              "      <td>0.036289</td>\n",
              "      <td>0.051272</td>\n",
              "      <td>0.377438</td>\n",
              "      <td>0.179120</td>\n",
              "      <td>0.044425</td>\n",
              "      <td>0.522375</td>\n",
              "      <td>0.091812</td>\n",
              "      <td>0.094358</td>\n",
              "      <td>0.022718</td>\n",
              "      <td>0.036754</td>\n",
              "      <td>0.131230</td>\n",
              "      <td>0.045080</td>\n",
              "      <td>0.036408</td>\n",
              "      <td>0.097728</td>\n",
              "      <td>0.000993</td>\n",
              "      <td>0.253841</td>\n",
              "      <td>0.103250</td>\n",
              "      <td>0.011073</td>\n",
              "      <td>0.034916</td>\n",
              "      <td>0.262062</td>\n",
              "      <td>0.046035</td>\n",
              "      <td>0.029843</td>\n",
              "    </tr>\n",
              "    <tr>\n",
              "      <th>...</th>\n",
              "      <td>...</td>\n",
              "      <td>...</td>\n",
              "      <td>...</td>\n",
              "      <td>...</td>\n",
              "      <td>...</td>\n",
              "      <td>...</td>\n",
              "      <td>...</td>\n",
              "      <td>...</td>\n",
              "      <td>...</td>\n",
              "      <td>...</td>\n",
              "      <td>...</td>\n",
              "      <td>...</td>\n",
              "      <td>...</td>\n",
              "      <td>...</td>\n",
              "      <td>...</td>\n",
              "      <td>...</td>\n",
              "      <td>...</td>\n",
              "      <td>...</td>\n",
              "      <td>...</td>\n",
              "      <td>...</td>\n",
              "      <td>...</td>\n",
              "      <td>...</td>\n",
              "      <td>...</td>\n",
              "      <td>...</td>\n",
              "    </tr>\n",
              "    <tr>\n",
              "      <th>1574</th>\n",
              "      <td>0.154906</td>\n",
              "      <td>0.125664</td>\n",
              "      <td>0.032271</td>\n",
              "      <td>0.043909</td>\n",
              "      <td>0.402131</td>\n",
              "      <td>0.171273</td>\n",
              "      <td>0.045323</td>\n",
              "      <td>0.529778</td>\n",
              "      <td>0.082506</td>\n",
              "      <td>0.082529</td>\n",
              "      <td>0.020077</td>\n",
              "      <td>0.032476</td>\n",
              "      <td>0.108125</td>\n",
              "      <td>0.041433</td>\n",
              "      <td>0.033055</td>\n",
              "      <td>0.089135</td>\n",
              "      <td>0.000893</td>\n",
              "      <td>0.301276</td>\n",
              "      <td>0.084718</td>\n",
              "      <td>0.010161</td>\n",
              "      <td>0.031703</td>\n",
              "      <td>0.242011</td>\n",
              "      <td>0.041260</td>\n",
              "      <td>0.027541</td>\n",
              "    </tr>\n",
              "    <tr>\n",
              "      <th>1575</th>\n",
              "      <td>0.169149</td>\n",
              "      <td>0.140148</td>\n",
              "      <td>0.036770</td>\n",
              "      <td>0.050809</td>\n",
              "      <td>0.389932</td>\n",
              "      <td>0.181179</td>\n",
              "      <td>0.049839</td>\n",
              "      <td>0.484648</td>\n",
              "      <td>0.091699</td>\n",
              "      <td>0.093399</td>\n",
              "      <td>0.021849</td>\n",
              "      <td>0.036630</td>\n",
              "      <td>0.130641</td>\n",
              "      <td>0.047229</td>\n",
              "      <td>0.036937</td>\n",
              "      <td>0.095901</td>\n",
              "      <td>0.000989</td>\n",
              "      <td>0.214448</td>\n",
              "      <td>0.094431</td>\n",
              "      <td>0.011146</td>\n",
              "      <td>0.036153</td>\n",
              "      <td>0.258893</td>\n",
              "      <td>0.045703</td>\n",
              "      <td>0.032170</td>\n",
              "    </tr>\n",
              "    <tr>\n",
              "      <th>1576</th>\n",
              "      <td>0.186654</td>\n",
              "      <td>0.149121</td>\n",
              "      <td>0.039007</td>\n",
              "      <td>0.052406</td>\n",
              "      <td>0.367442</td>\n",
              "      <td>0.195414</td>\n",
              "      <td>0.052743</td>\n",
              "      <td>0.479174</td>\n",
              "      <td>0.098211</td>\n",
              "      <td>0.101497</td>\n",
              "      <td>0.023446</td>\n",
              "      <td>0.039231</td>\n",
              "      <td>0.137354</td>\n",
              "      <td>0.048329</td>\n",
              "      <td>0.038788</td>\n",
              "      <td>0.103071</td>\n",
              "      <td>0.001045</td>\n",
              "      <td>0.207217</td>\n",
              "      <td>0.098634</td>\n",
              "      <td>0.011661</td>\n",
              "      <td>0.036513</td>\n",
              "      <td>0.284361</td>\n",
              "      <td>0.048904</td>\n",
              "      <td>0.031356</td>\n",
              "    </tr>\n",
              "    <tr>\n",
              "      <th>1577</th>\n",
              "      <td>0.193633</td>\n",
              "      <td>0.141322</td>\n",
              "      <td>0.035183</td>\n",
              "      <td>0.047792</td>\n",
              "      <td>0.369005</td>\n",
              "      <td>0.221904</td>\n",
              "      <td>0.045344</td>\n",
              "      <td>0.477505</td>\n",
              "      <td>0.090393</td>\n",
              "      <td>0.092092</td>\n",
              "      <td>0.024372</td>\n",
              "      <td>0.035714</td>\n",
              "      <td>0.126228</td>\n",
              "      <td>0.045307</td>\n",
              "      <td>0.035124</td>\n",
              "      <td>0.103218</td>\n",
              "      <td>0.000991</td>\n",
              "      <td>0.229600</td>\n",
              "      <td>0.099482</td>\n",
              "      <td>0.011120</td>\n",
              "      <td>0.034878</td>\n",
              "      <td>0.294784</td>\n",
              "      <td>0.045611</td>\n",
              "      <td>0.031126</td>\n",
              "    </tr>\n",
              "    <tr>\n",
              "      <th>1578</th>\n",
              "      <td>0.175190</td>\n",
              "      <td>0.129069</td>\n",
              "      <td>0.033939</td>\n",
              "      <td>0.044910</td>\n",
              "      <td>0.348450</td>\n",
              "      <td>0.243024</td>\n",
              "      <td>0.039665</td>\n",
              "      <td>0.517793</td>\n",
              "      <td>0.086209</td>\n",
              "      <td>0.087311</td>\n",
              "      <td>0.023652</td>\n",
              "      <td>0.033562</td>\n",
              "      <td>0.134841</td>\n",
              "      <td>0.040995</td>\n",
              "      <td>0.033567</td>\n",
              "      <td>0.129153</td>\n",
              "      <td>0.000933</td>\n",
              "      <td>0.216615</td>\n",
              "      <td>0.088440</td>\n",
              "      <td>0.010298</td>\n",
              "      <td>0.033543</td>\n",
              "      <td>0.328866</td>\n",
              "      <td>0.041077</td>\n",
              "      <td>0.028421</td>\n",
              "    </tr>\n",
              "  </tbody>\n",
              "</table>\n",
              "<p>1579 rows × 24 columns</p>\n",
              "</div>"
            ],
            "text/plain": [
              "            0         1         2   ...        21        22        23\n",
              "0     0.143145  0.118169  0.030443  ...  0.225826  0.039064  0.025681\n",
              "1     0.136890  0.114190  0.029595  ...  0.218206  0.039714  0.025673\n",
              "2     0.199591  0.149174  0.037561  ...  0.296613  0.049386  0.030652\n",
              "3     0.190136  0.148928  0.037297  ...  0.298278  0.049662  0.032982\n",
              "4     0.171328  0.143090  0.036289  ...  0.262062  0.046035  0.029843\n",
              "...        ...       ...       ...  ...       ...       ...       ...\n",
              "1574  0.154906  0.125664  0.032271  ...  0.242011  0.041260  0.027541\n",
              "1575  0.169149  0.140148  0.036770  ...  0.258893  0.045703  0.032170\n",
              "1576  0.186654  0.149121  0.039007  ...  0.284361  0.048904  0.031356\n",
              "1577  0.193633  0.141322  0.035183  ...  0.294784  0.045611  0.031126\n",
              "1578  0.175190  0.129069  0.033939  ...  0.328866  0.041077  0.028421\n",
              "\n",
              "[1579 rows x 24 columns]"
            ]
          },
          "metadata": {
            "tags": []
          },
          "execution_count": 40
        }
      ]
    },
    {
      "cell_type": "code",
      "metadata": {
        "id": "s1y27Oynkltg",
        "colab_type": "code",
        "colab": {
          "base_uri": "https://localhost:8080/",
          "height": 33
        },
        "outputId": "73c1178e-2de5-4412-9622-daa68d73abf5"
      },
      "source": [
        "roc_auc_score(yval, pd.DataFrame(y_pred3.todense()), average='macro')"
      ],
      "execution_count": null,
      "outputs": [
        {
          "output_type": "execute_result",
          "data": {
            "text/plain": [
              "0.7845490063299092"
            ]
          },
          "metadata": {
            "tags": []
          },
          "execution_count": 41
        }
      ]
    },
    {
      "cell_type": "markdown",
      "metadata": {
        "id": "nNNO-iH9iQfb",
        "colab_type": "text"
      },
      "source": [
        "# Bidirectional Gated Recurrent Neural Network\n",
        "\n",
        "En el presente trabajo se probaron diferentes modelos de redes neuronales como:\n",
        "\n",
        "    1) Red neuronal simple con TfidVectorizer sobre el texto\n",
        "    2) LSTM Red Neuronal con Embedding de Count Vectorizer\n",
        "    3) CNN con TfidVectorizer\n",
        "    4) LSTM y CNN model \n",
        "    5) Bidirectional Gated Recurrent Neural Network\n",
        "    6) Bidirectional Gated Recurrent Neural and Convolutional Network\n",
        "\n",
        "Siendo esta última, la que mejores resultados presentó. La idea de usar una red bidireccional es que la red aprendiera tanto de las palabras anteriores como de las siguientes para la clasificación en el género de la película. Además ultilizar GRU como estrategía de aprendizaje, tiene su explicación en que esta metodología es muy similar a LSTM, pero adopta un mecanismo de activación para rastrear el estado de la secuencia en lugar de usar una unidad de almacenamiento separada, lo que simplifica la estructura. Además aplicar una convolución en la semantica del texto previamente, sintetiza la relación de algunas palabras sobre la elección de los géneros.\n",
        "\n",
        "Adicionalmente, para el embedding de los datos, se usaron unos pesos pre-entrenados de las palabras por un grupo de investigación de Stanford que se encuentran disponibles en su sitio Web http://nlp.stanford.edu/"
      ]
    },
    {
      "cell_type": "code",
      "metadata": {
        "id": "bUMnWopDKN97",
        "colab_type": "code",
        "colab": {}
      },
      "source": [
        "tokenizer = Tokenizer()\n",
        "tokenizer.fit_on_texts(dataTraining['clean_plot'])\n",
        "\n",
        "train_sequences = tokenizer.texts_to_sequences(dataTraining['clean_plot'])\n",
        "train_data = pad_sequences(train_sequences, maxlen=200)"
      ],
      "execution_count": null,
      "outputs": []
    },
    {
      "cell_type": "code",
      "metadata": {
        "id": "JJX2nsIh8nhi",
        "colab_type": "code",
        "colab": {
          "base_uri": "https://localhost:8080/",
          "height": 138
        },
        "outputId": "3ce9b6c4-84ff-4f62-bf5b-60eceb613f4e"
      },
      "source": [
        "train_data"
      ],
      "execution_count": null,
      "outputs": [
        {
          "output_type": "execute_result",
          "data": {
            "text/plain": [
              "array([[    0,     0,     0, ...,  3712,  6475,    67],\n",
              "       [    0,     0,     0, ...,  1098,   488,  1621],\n",
              "       [    0,     0,     0, ...,     7,    30,  1753],\n",
              "       ...,\n",
              "       [    0,     0,     0, ...,   616,    11,   191],\n",
              "       [    0,     0,     0, ...,    22, 16797,   106],\n",
              "       [    0,     0,     0, ..., 12811,  3478,  1463]], dtype=int32)"
            ]
          },
          "metadata": {
            "tags": []
          },
          "execution_count": 128
        }
      ]
    },
    {
      "cell_type": "code",
      "metadata": {
        "id": "oIN9Q-TAK8Q4",
        "colab_type": "code",
        "colab": {
          "base_uri": "https://localhost:8080/",
          "height": 312
        },
        "outputId": "5ba86680-a799-4d33-c47f-b1063590b988"
      },
      "source": [
        "!wget http://nlp.stanford.edu/data/glove.6B.zip"
      ],
      "execution_count": null,
      "outputs": [
        {
          "output_type": "stream",
          "text": [
            "--2020-07-19 19:18:46--  http://nlp.stanford.edu/data/glove.6B.zip\n",
            "Resolving nlp.stanford.edu (nlp.stanford.edu)... 171.64.67.140\n",
            "Connecting to nlp.stanford.edu (nlp.stanford.edu)|171.64.67.140|:80... connected.\n",
            "HTTP request sent, awaiting response... 302 Found\n",
            "Location: https://nlp.stanford.edu/data/glove.6B.zip [following]\n",
            "--2020-07-19 19:18:46--  https://nlp.stanford.edu/data/glove.6B.zip\n",
            "Connecting to nlp.stanford.edu (nlp.stanford.edu)|171.64.67.140|:443... connected.\n",
            "HTTP request sent, awaiting response... 301 Moved Permanently\n",
            "Location: http://downloads.cs.stanford.edu/nlp/data/glove.6B.zip [following]\n",
            "--2020-07-19 19:18:47--  http://downloads.cs.stanford.edu/nlp/data/glove.6B.zip\n",
            "Resolving downloads.cs.stanford.edu (downloads.cs.stanford.edu)... 171.64.64.22\n",
            "Connecting to downloads.cs.stanford.edu (downloads.cs.stanford.edu)|171.64.64.22|:80... connected.\n",
            "HTTP request sent, awaiting response... 200 OK\n",
            "Length: 862182613 (822M) [application/zip]\n",
            "Saving to: ‘glove.6B.zip.1’\n",
            "\n",
            "glove.6B.zip.1        0%[                    ]  50.16K   184KB/s               ^C\n"
          ],
          "name": "stdout"
        }
      ]
    },
    {
      "cell_type": "code",
      "metadata": {
        "id": "hkwffl_WK_P_",
        "colab_type": "code",
        "colab": {
          "base_uri": "https://localhost:8080/",
          "height": 104
        },
        "outputId": "56ae2037-5c92-4891-97e8-57732a9a7d6b"
      },
      "source": [
        "!unzip glove*.zip"
      ],
      "execution_count": null,
      "outputs": [
        {
          "output_type": "stream",
          "text": [
            "Archive:  glove.6B.zip\n",
            "  inflating: glove.6B.50d.txt        \n",
            "  inflating: glove.6B.100d.txt       \n",
            "  inflating: glove.6B.200d.txt       \n",
            "  inflating: glove.6B.300d.txt       \n"
          ],
          "name": "stdout"
        }
      ]
    },
    {
      "cell_type": "code",
      "metadata": {
        "id": "PwNIlVydKm_W",
        "colab_type": "code",
        "colab": {}
      },
      "source": [
        "EMBEDDING_FILE = 'glove.6B.300d.txt'\n",
        "def get_coefs(word,*arr): return word, np.asarray(arr, dtype='float32')\n",
        "embeddings_index = dict(get_coefs(*o.split(\" \")) for o in open(EMBEDDING_FILE))"
      ],
      "execution_count": null,
      "outputs": []
    },
    {
      "cell_type": "code",
      "metadata": {
        "id": "IYLbg9ZLK5VP",
        "colab_type": "code",
        "colab": {}
      },
      "source": [
        "embedding_matrix = np.zeros((50000, 300))\n",
        "for word, index in tokenizer.word_index.items():\n",
        "    if index > 50000 - 1:\n",
        "        break\n",
        "    else:\n",
        "        embedding_vector = embeddings_index.get(word)\n",
        "        if embedding_vector is not None:\n",
        "            embedding_matrix[index] = embedding_vector"
      ],
      "execution_count": null,
      "outputs": []
    },
    {
      "cell_type": "code",
      "metadata": {
        "id": "Si6zqECgcu3l",
        "colab_type": "code",
        "colab": {}
      },
      "source": [
        "tokenizer = Tokenizer()\n",
        "tokenizer.fit_on_texts(dataTraining['clean_plot_2'])\n",
        "\n",
        "train_sequences = tokenizer.texts_to_sequences(dataTraining['clean_plot_2'])\n",
        "train_data = pad_sequences(train_sequences, maxlen=200)\n",
        "\n",
        "x_train, x_test, y_train, yval = train_test_split(train_data, y_genres, test_size=0.2, random_state=9)\n"
      ],
      "execution_count": null,
      "outputs": []
    },
    {
      "cell_type": "code",
      "metadata": {
        "id": "zBBNGEqKcLQ2",
        "colab_type": "code",
        "colab": {}
      },
      "source": [
        "sequence_input = Input(shape=(max_len, ))\n",
        "model = Embedding(input_dim =embedding_matrix.shape[0], input_length=max_len, output_dim=embedding_matrix.shape[1],weights=[embedding_matrix], trainable=False)(sequence_input)\n",
        "model = SpatialDropout1D(0.2)(model)\n",
        "model = Bidirectional(GRU(128, return_sequences=True,dropout=0.1,recurrent_dropout=0.1))(model)\n",
        "model = Conv1D(128, kernel_size = 3, padding = \"valid\", kernel_initializer = \"glorot_uniform\")(model)\n",
        "avg_pool = GlobalAveragePooling1D()(model)\n",
        "max_pool = GlobalMaxPooling1D()(model)\n",
        "model = concatenate([avg_pool, max_pool]) \n",
        "#dense_1 = Dense(128, activation='relu')(model)\n",
        "preds = Dense(24, activation=\"sigmoid\")(model)\n",
        "Bil_GRU_Glove_model = Model(sequence_input, preds)\n",
        "Bil_GRU_Glove_model.compile(loss='binary_crossentropy',optimizer='adam',metrics=[tf.keras.metrics.AUC()])"
      ],
      "execution_count": null,
      "outputs": []
    },
    {
      "cell_type": "code",
      "metadata": {
        "id": "irckKCySibWX",
        "colab_type": "code",
        "colab": {
          "base_uri": "https://localhost:8080/",
          "height": 658
        },
        "outputId": "2498c2c5-9757-4558-9351-c52337e06317"
      },
      "source": [
        "Bil_GRU_Glove_model_fit = Bil_GRU_Glove_model.fit(x_train, y_train, batch_size=128, epochs=50, validation_data=(x_test, yval), callbacks=[early])"
      ],
      "execution_count": null,
      "outputs": [
        {
          "output_type": "stream",
          "text": [
            "Train on 6316 samples, validate on 1579 samples\n",
            "Epoch 1/50\n",
            "6316/6316 [==============================] - 123s 20ms/step - loss: 0.3268 - auc_17: 0.6849 - val_loss: 0.2702 - val_auc_17: 0.7602\n",
            "Epoch 2/50\n",
            "6316/6316 [==============================] - 122s 19ms/step - loss: 0.2577 - auc_17: 0.7898 - val_loss: 0.2447 - val_auc_17: 0.8120\n",
            "Epoch 3/50\n",
            "6316/6316 [==============================] - 121s 19ms/step - loss: 0.2600 - auc_17: 0.8277 - val_loss: 0.2346 - val_auc_17: 0.8398\n",
            "Epoch 4/50\n",
            "6316/6316 [==============================] - 121s 19ms/step - loss: 0.2239 - auc_17: 0.8492 - val_loss: 0.2265 - val_auc_17: 0.8566\n",
            "Epoch 5/50\n",
            "6316/6316 [==============================] - 122s 19ms/step - loss: 0.2146 - auc_17: 0.8632 - val_loss: 0.2215 - val_auc_17: 0.8685\n",
            "Epoch 6/50\n",
            "6316/6316 [==============================] - 123s 19ms/step - loss: 0.2079 - auc_17: 0.8732 - val_loss: 0.2183 - val_auc_17: 0.8773\n",
            "Epoch 7/50\n",
            "6316/6316 [==============================] - 122s 19ms/step - loss: 0.2016 - auc_17: 0.8812 - val_loss: 0.2166 - val_auc_17: 0.8843\n",
            "Epoch 8/50\n",
            "6316/6316 [==============================] - 123s 19ms/step - loss: 0.1980 - auc_17: 0.8873 - val_loss: 0.2155 - val_auc_17: 0.8899\n",
            "Epoch 9/50\n",
            "6316/6316 [==============================] - 123s 20ms/step - loss: 0.1922 - auc_17: 0.8923 - val_loss: 0.2156 - val_auc_17: 0.8946\n",
            "Epoch 10/50\n",
            "6316/6316 [==============================] - 122s 19ms/step - loss: 0.1879 - auc_17: 0.8968 - val_loss: 0.2129 - val_auc_17: 0.8987\n",
            "Epoch 11/50\n",
            "6316/6316 [==============================] - 123s 20ms/step - loss: 0.1898 - auc_17: 0.9007 - val_loss: 0.2150 - val_auc_17: 0.9022\n",
            "Epoch 12/50\n",
            "6316/6316 [==============================] - 123s 19ms/step - loss: 0.1831 - auc_17: 0.9038 - val_loss: 0.2148 - val_auc_17: 0.9051\n",
            "Epoch 13/50\n",
            "6316/6316 [==============================] - 123s 19ms/step - loss: 0.1798 - auc_17: 0.9066 - val_loss: 0.2129 - val_auc_17: 0.9078\n",
            "Epoch 14/50\n",
            "6316/6316 [==============================] - 124s 20ms/step - loss: 0.1755 - auc_17: 0.9092 - val_loss: 0.2119 - val_auc_17: 0.9103\n",
            "Epoch 15/50\n",
            "6316/6316 [==============================] - 124s 20ms/step - loss: 0.1723 - auc_17: 0.9116 - val_loss: 0.2140 - val_auc_17: 0.9126\n",
            "Epoch 16/50\n",
            "6316/6316 [==============================] - 123s 20ms/step - loss: 0.1690 - auc_17: 0.9138 - val_loss: 0.2129 - val_auc_17: 0.9147\n",
            "Epoch 17/50\n",
            "6316/6316 [==============================] - 123s 19ms/step - loss: 0.1656 - auc_17: 0.9158 - val_loss: 0.2136 - val_auc_17: 0.9167\n",
            "Epoch 18/50\n",
            "6316/6316 [==============================] - 123s 19ms/step - loss: 0.1626 - auc_17: 0.9177 - val_loss: 0.2138 - val_auc_17: 0.9185\n"
          ],
          "name": "stdout"
        }
      ]
    },
    {
      "cell_type": "code",
      "metadata": {
        "id": "wERFeaGnokXF",
        "colab_type": "code",
        "colab": {
          "base_uri": "https://localhost:8080/",
          "height": 441
        },
        "outputId": "11d01760-ea92-440a-f1b7-d1d37c8e745b"
      },
      "source": [
        "#plot the GRU model architecture\n",
        "from keras.utils.vis_utils import plot_model\n",
        "from IPython.display import Image\n",
        "\n",
        "plot_model(Bil_GRU_Glove_model, to_file='/content/gdrive/My Drive/Bil_GRU_Glove_model_plot.png', show_shapes=True, show_layer_names=True)\n",
        "Image(retina=True, filename='/content/gdrive/My Drive/Bil_GRU_Glove_model_plot.png') "
      ],
      "execution_count": null,
      "outputs": [
        {
          "output_type": "execute_result",
          "data": {
            "image/png": "[encoded data removed]",
            "text/plain": [
              "<IPython.core.display.Image object>"
            ]
          },
          "metadata": {
            "tags": [],
            "image/png": {
              "width": 682,
              "height": 424
            }
          },
          "execution_count": 138
        }
      ]
    },
    {
      "cell_type": "code",
      "metadata": {
        "id": "lBMtmu2ui2H-",
        "colab_type": "code",
        "colab": {
          "base_uri": "https://localhost:8080/",
          "height": 34
        },
        "outputId": "97780168-1f00-432c-96e7-7bcb7fdcc68a"
      },
      "source": [
        " prediccion_3 = Bil_GRU_Glove_model_fit.model.predict(x_test)\n",
        " roc_auc_score(yval, prediccion_3, average='macro')"
      ],
      "execution_count": null,
      "outputs": [
        {
          "output_type": "execute_result",
          "data": {
            "text/plain": [
              "0.8684155695273613"
            ]
          },
          "metadata": {
            "tags": []
          },
          "execution_count": 139
        }
      ]
    },
    {
      "cell_type": "markdown",
      "metadata": {
        "id": "noWHTE-mc5pb",
        "colab_type": "text"
      },
      "source": [
        "Sin embargo, este modelo en la parte de validación no mostró mejores resultados que los modelos probados anteriormente. Por ello, se vió en la necesidad de entrenar un modelo con mayor coste computacional.\n",
        "\n",
        "## Regresión Logistica con optimización de parámetros\n",
        "\n",
        "Se decide entonces, entrenar un modelo SVM optimizando los parámetros de la siguiente manera:"
      ]
    },
    {
      "cell_type": "markdown",
      "metadata": {
        "id": "W6syq5VlgSXf",
        "colab_type": "text"
      },
      "source": [
        "### Optimización TFIDF FASE 1\n",
        "\n"
      ]
    },
    {
      "cell_type": "markdown",
      "metadata": {
        "id": "a0NHbf0l4j6O",
        "colab_type": "text"
      },
      "source": [
        "Despues de hacer la limpieza a los textos, eliminar stop_words, caracteres especiales, y lematizar las palabras, realizamos una optimización del TF-IDF sobre los parémtros max_df (Cota superior de pesos considerados en el TF-IDF), min_df (Cota inferior de pesos considerados en el TF-IDF), max_feature (longitud máxima de tokens considerados en la matriz de pesos)y ngram_range(combinando de tokens, unigramas, bigramas,etc). "
      ]
    },
    {
      "cell_type": "code",
      "metadata": {
        "id": "UZUJE3L99OyH",
        "colab_type": "code",
        "colab": {
          "base_uri": "https://localhost:8080/",
          "height": 1000
        },
        "outputId": "8e54b34c-ce7c-4270-ff93-56fa405dfa3f"
      },
      "source": [
        "maxdf=[0.5,0.7,0.75,0.8,0.85,0.9,1.0]\n",
        "mindf=[0.0,0.002,0.005,0.01,0.02]\n",
        "maxfeat=[5000,7000,10000,15000,20000,30000,40000]\n",
        "\n",
        "\n",
        "for i in range(0,len(maxdf)):\n",
        "  for j in range(0,len(maxfeat)):\n",
        "    for k in range(0,len(mindf)): \n",
        "      lr = LogisticRegression()\n",
        "      clog = OneVsRestClassifier(lr)\n",
        "      tfvect= TfidfVectorizer(max_df=maxdf[i], max_features=maxfeat[j],min_df=mindf[k])   \n",
        "      Xtf=pd.DataFrame(tfvect.fit_transform(dataTraining2['clean_plot']).toarray(), columns=tfvect.get_feature_names())\n",
        "      X_fin=Xtf.iloc[0:7895]\n",
        "      xtrain, xval, ytrain, yval = train_test_split(X_fin, y, test_size=0.2, random_state=9)\n",
        "      clog.fit(xtrain, ytrain)\n",
        "      y_pred = clog.predict_proba(xval)\n",
        "      auc=roc_auc_score(yval, y_pred, average='macro')\n",
        "      #print(\"auc\",auc,\"maxdf\",maxdf[i],\"max_feat\",maxfeat[j])\n",
        "      print(\"auc\",auc,\"maxdf\",maxdf[i],\"max_feat\",maxfeat[j],\"mindf\",mindf[k])\n"
      ],
      "execution_count": null,
      "outputs": [
        {
          "output_type": "stream",
          "text": [
            "auc 0.876996740465192 maxdf 0.5 max_feat 5000 mindf 0.0\n",
            "auc 0.875392491651673 maxdf 0.5 max_feat 5000 mindf 0.002\n",
            "auc 0.8505262115065628 maxdf 0.5 max_feat 5000 mindf 0.005\n",
            "auc 0.8323733827297989 maxdf 0.5 max_feat 5000 mindf 0.01\n",
            "auc 0.7997850452205214 maxdf 0.5 max_feat 5000 mindf 0.02\n",
            "auc 0.8793273908889355 maxdf 0.5 max_feat 7000 mindf 0.0\n",
            "auc 0.875392491651673 maxdf 0.5 max_feat 7000 mindf 0.002\n",
            "auc 0.8505262115065628 maxdf 0.5 max_feat 7000 mindf 0.005\n",
            "auc 0.8323733827297989 maxdf 0.5 max_feat 7000 mindf 0.01\n",
            "auc 0.7997850452205214 maxdf 0.5 max_feat 7000 mindf 0.02\n",
            "auc 0.8803027595237426 maxdf 0.5 max_feat 10000 mindf 0.0\n",
            "auc 0.875392491651673 maxdf 0.5 max_feat 10000 mindf 0.002\n",
            "auc 0.8505262115065628 maxdf 0.5 max_feat 10000 mindf 0.005\n",
            "auc 0.8323733827297989 maxdf 0.5 max_feat 10000 mindf 0.01\n",
            "auc 0.7997850452205214 maxdf 0.5 max_feat 10000 mindf 0.02\n",
            "auc 0.8813733426409428 maxdf 0.5 max_feat 15000 mindf 0.0\n",
            "auc 0.875392491651673 maxdf 0.5 max_feat 15000 mindf 0.002\n",
            "auc 0.8505262115065628 maxdf 0.5 max_feat 15000 mindf 0.005\n",
            "auc 0.8323733827297989 maxdf 0.5 max_feat 15000 mindf 0.01\n",
            "auc 0.7997850452205214 maxdf 0.5 max_feat 15000 mindf 0.02\n",
            "auc 0.8813779983101485 maxdf 0.5 max_feat 20000 mindf 0.0\n",
            "auc 0.875392491651673 maxdf 0.5 max_feat 20000 mindf 0.002\n",
            "auc 0.8505262115065628 maxdf 0.5 max_feat 20000 mindf 0.005\n",
            "auc 0.8323733827297989 maxdf 0.5 max_feat 20000 mindf 0.01\n",
            "auc 0.7997850452205214 maxdf 0.5 max_feat 20000 mindf 0.02\n",
            "auc 0.8814949103257742 maxdf 0.5 max_feat 30000 mindf 0.0\n",
            "auc 0.875392491651673 maxdf 0.5 max_feat 30000 mindf 0.002\n",
            "auc 0.8505262115065628 maxdf 0.5 max_feat 30000 mindf 0.005\n",
            "auc 0.8323733827297989 maxdf 0.5 max_feat 30000 mindf 0.01\n",
            "auc 0.7997850452205214 maxdf 0.5 max_feat 30000 mindf 0.02\n",
            "auc 0.8819891715025143 maxdf 0.5 max_feat 40000 mindf 0.0\n",
            "auc 0.875392491651673 maxdf 0.5 max_feat 40000 mindf 0.002\n",
            "auc 0.8505262115065628 maxdf 0.5 max_feat 40000 mindf 0.005\n",
            "auc 0.8323733827297989 maxdf 0.5 max_feat 40000 mindf 0.01\n",
            "auc 0.7997850452205214 maxdf 0.5 max_feat 40000 mindf 0.02\n",
            "auc 0.876996740465192 maxdf 0.7 max_feat 5000 mindf 0.0\n",
            "auc 0.875392491651673 maxdf 0.7 max_feat 5000 mindf 0.002\n",
            "auc 0.8505262115065628 maxdf 0.7 max_feat 5000 mindf 0.005\n",
            "auc 0.8323733827297989 maxdf 0.7 max_feat 5000 mindf 0.01\n",
            "auc 0.7997850452205214 maxdf 0.7 max_feat 5000 mindf 0.02\n",
            "auc 0.8793273908889355 maxdf 0.7 max_feat 7000 mindf 0.0\n",
            "auc 0.875392491651673 maxdf 0.7 max_feat 7000 mindf 0.002\n",
            "auc 0.8505262115065628 maxdf 0.7 max_feat 7000 mindf 0.005\n",
            "auc 0.8323733827297989 maxdf 0.7 max_feat 7000 mindf 0.01\n",
            "auc 0.7997850452205214 maxdf 0.7 max_feat 7000 mindf 0.02\n",
            "auc 0.8803027595237426 maxdf 0.7 max_feat 10000 mindf 0.0\n",
            "auc 0.875392491651673 maxdf 0.7 max_feat 10000 mindf 0.002\n",
            "auc 0.8505262115065628 maxdf 0.7 max_feat 10000 mindf 0.005\n",
            "auc 0.8323733827297989 maxdf 0.7 max_feat 10000 mindf 0.01\n",
            "auc 0.7997850452205214 maxdf 0.7 max_feat 10000 mindf 0.02\n",
            "auc 0.8813733426409428 maxdf 0.7 max_feat 15000 mindf 0.0\n",
            "auc 0.875392491651673 maxdf 0.7 max_feat 15000 mindf 0.002\n",
            "auc 0.8505262115065628 maxdf 0.7 max_feat 15000 mindf 0.005\n",
            "auc 0.8323733827297989 maxdf 0.7 max_feat 15000 mindf 0.01\n",
            "auc 0.7997850452205214 maxdf 0.7 max_feat 15000 mindf 0.02\n",
            "auc 0.8813779983101485 maxdf 0.7 max_feat 20000 mindf 0.0\n",
            "auc 0.875392491651673 maxdf 0.7 max_feat 20000 mindf 0.002\n",
            "auc 0.8505262115065628 maxdf 0.7 max_feat 20000 mindf 0.005\n",
            "auc 0.8323733827297989 maxdf 0.7 max_feat 20000 mindf 0.01\n",
            "auc 0.7997850452205214 maxdf 0.7 max_feat 20000 mindf 0.02\n",
            "auc 0.8814949103257742 maxdf 0.7 max_feat 30000 mindf 0.0\n",
            "auc 0.875392491651673 maxdf 0.7 max_feat 30000 mindf 0.002\n",
            "auc 0.8505262115065628 maxdf 0.7 max_feat 30000 mindf 0.005\n",
            "auc 0.8323733827297989 maxdf 0.7 max_feat 30000 mindf 0.01\n",
            "auc 0.7997850452205214 maxdf 0.7 max_feat 30000 mindf 0.02\n",
            "auc 0.8819891715025143 maxdf 0.7 max_feat 40000 mindf 0.0\n",
            "auc 0.875392491651673 maxdf 0.7 max_feat 40000 mindf 0.002\n",
            "auc 0.8505262115065628 maxdf 0.7 max_feat 40000 mindf 0.005\n",
            "auc 0.8323733827297989 maxdf 0.7 max_feat 40000 mindf 0.01\n",
            "auc 0.7997850452205214 maxdf 0.7 max_feat 40000 mindf 0.02\n",
            "auc 0.876996740465192 maxdf 0.75 max_feat 5000 mindf 0.0\n",
            "auc 0.875392491651673 maxdf 0.75 max_feat 5000 mindf 0.002\n",
            "auc 0.8505262115065628 maxdf 0.75 max_feat 5000 mindf 0.005\n",
            "auc 0.8323733827297989 maxdf 0.75 max_feat 5000 mindf 0.01\n",
            "auc 0.7997850452205214 maxdf 0.75 max_feat 5000 mindf 0.02\n",
            "auc 0.8793273908889355 maxdf 0.75 max_feat 7000 mindf 0.0\n",
            "auc 0.875392491651673 maxdf 0.75 max_feat 7000 mindf 0.002\n",
            "auc 0.8505262115065628 maxdf 0.75 max_feat 7000 mindf 0.005\n",
            "auc 0.8323733827297989 maxdf 0.75 max_feat 7000 mindf 0.01\n",
            "auc 0.7997850452205214 maxdf 0.75 max_feat 7000 mindf 0.02\n",
            "auc 0.8803027595237426 maxdf 0.75 max_feat 10000 mindf 0.0\n",
            "auc 0.875392491651673 maxdf 0.75 max_feat 10000 mindf 0.002\n",
            "auc 0.8505262115065628 maxdf 0.75 max_feat 10000 mindf 0.005\n",
            "auc 0.8323733827297989 maxdf 0.75 max_feat 10000 mindf 0.01\n",
            "auc 0.7997850452205214 maxdf 0.75 max_feat 10000 mindf 0.02\n",
            "auc 0.8813733426409428 maxdf 0.75 max_feat 15000 mindf 0.0\n",
            "auc 0.875392491651673 maxdf 0.75 max_feat 15000 mindf 0.002\n",
            "auc 0.8505262115065628 maxdf 0.75 max_feat 15000 mindf 0.005\n",
            "auc 0.8323733827297989 maxdf 0.75 max_feat 15000 mindf 0.01\n",
            "auc 0.7997850452205214 maxdf 0.75 max_feat 15000 mindf 0.02\n",
            "auc 0.8813779983101485 maxdf 0.75 max_feat 20000 mindf 0.0\n",
            "auc 0.875392491651673 maxdf 0.75 max_feat 20000 mindf 0.002\n",
            "auc 0.8505262115065628 maxdf 0.75 max_feat 20000 mindf 0.005\n",
            "auc 0.8323733827297989 maxdf 0.75 max_feat 20000 mindf 0.01\n",
            "auc 0.7997850452205214 maxdf 0.75 max_feat 20000 mindf 0.02\n"
          ],
          "name": "stdout"
        },
        {
          "output_type": "error",
          "ename": "KeyboardInterrupt",
          "evalue": "ignored",
          "traceback": [
            "\u001b[0;31m---------------------------------------------------------------------------\u001b[0m",
            "\u001b[0;31mKeyboardInterrupt\u001b[0m                         Traceback (most recent call last)",
            "\u001b[0;32m<ipython-input-21-2790025fb833>\u001b[0m in \u001b[0;36m<module>\u001b[0;34m()\u001b[0m\n\u001b[1;32m     13\u001b[0m       \u001b[0mX_fin\u001b[0m\u001b[0;34m=\u001b[0m\u001b[0mXtf\u001b[0m\u001b[0;34m.\u001b[0m\u001b[0miloc\u001b[0m\u001b[0;34m[\u001b[0m\u001b[0;36m0\u001b[0m\u001b[0;34m:\u001b[0m\u001b[0;36m7895\u001b[0m\u001b[0;34m]\u001b[0m\u001b[0;34m\u001b[0m\u001b[0;34m\u001b[0m\u001b[0m\n\u001b[1;32m     14\u001b[0m       \u001b[0mxtrain\u001b[0m\u001b[0;34m,\u001b[0m \u001b[0mxval\u001b[0m\u001b[0;34m,\u001b[0m \u001b[0mytrain\u001b[0m\u001b[0;34m,\u001b[0m \u001b[0myval\u001b[0m \u001b[0;34m=\u001b[0m \u001b[0mtrain_test_split\u001b[0m\u001b[0;34m(\u001b[0m\u001b[0mX_fin\u001b[0m\u001b[0;34m,\u001b[0m \u001b[0my\u001b[0m\u001b[0;34m,\u001b[0m \u001b[0mtest_size\u001b[0m\u001b[0;34m=\u001b[0m\u001b[0;36m0.2\u001b[0m\u001b[0;34m,\u001b[0m \u001b[0mrandom_state\u001b[0m\u001b[0;34m=\u001b[0m\u001b[0;36m9\u001b[0m\u001b[0;34m)\u001b[0m\u001b[0;34m\u001b[0m\u001b[0;34m\u001b[0m\u001b[0m\n\u001b[0;32m---> 15\u001b[0;31m       \u001b[0mclog\u001b[0m\u001b[0;34m.\u001b[0m\u001b[0mfit\u001b[0m\u001b[0;34m(\u001b[0m\u001b[0mxtrain\u001b[0m\u001b[0;34m,\u001b[0m \u001b[0mytrain\u001b[0m\u001b[0;34m)\u001b[0m\u001b[0;34m\u001b[0m\u001b[0;34m\u001b[0m\u001b[0m\n\u001b[0m\u001b[1;32m     16\u001b[0m       \u001b[0my_pred\u001b[0m \u001b[0;34m=\u001b[0m \u001b[0mclog\u001b[0m\u001b[0;34m.\u001b[0m\u001b[0mpredict_proba\u001b[0m\u001b[0;34m(\u001b[0m\u001b[0mxval\u001b[0m\u001b[0;34m)\u001b[0m\u001b[0;34m\u001b[0m\u001b[0;34m\u001b[0m\u001b[0m\n\u001b[1;32m     17\u001b[0m       \u001b[0mauc\u001b[0m\u001b[0;34m=\u001b[0m\u001b[0mroc_auc_score\u001b[0m\u001b[0;34m(\u001b[0m\u001b[0myval\u001b[0m\u001b[0;34m,\u001b[0m \u001b[0my_pred\u001b[0m\u001b[0;34m,\u001b[0m \u001b[0maverage\u001b[0m\u001b[0;34m=\u001b[0m\u001b[0;34m'macro'\u001b[0m\u001b[0;34m)\u001b[0m\u001b[0;34m\u001b[0m\u001b[0;34m\u001b[0m\u001b[0m\n",
            "\u001b[0;32m/usr/local/lib/python3.6/dist-packages/sklearn/multiclass.py\u001b[0m in \u001b[0;36mfit\u001b[0;34m(self, X, y)\u001b[0m\n\u001b[1;32m    237\u001b[0m                 \u001b[0;34m\"not %s\"\u001b[0m \u001b[0;34m%\u001b[0m \u001b[0mself\u001b[0m\u001b[0;34m.\u001b[0m\u001b[0mlabel_binarizer_\u001b[0m\u001b[0;34m.\u001b[0m\u001b[0mclasses_\u001b[0m\u001b[0;34m[\u001b[0m\u001b[0mi\u001b[0m\u001b[0;34m]\u001b[0m\u001b[0;34m,\u001b[0m\u001b[0;34m\u001b[0m\u001b[0;34m\u001b[0m\u001b[0m\n\u001b[1;32m    238\u001b[0m                 self.label_binarizer_.classes_[i]])\n\u001b[0;32m--> 239\u001b[0;31m             for i, column in enumerate(columns))\n\u001b[0m\u001b[1;32m    240\u001b[0m \u001b[0;34m\u001b[0m\u001b[0m\n\u001b[1;32m    241\u001b[0m         \u001b[0;32mreturn\u001b[0m \u001b[0mself\u001b[0m\u001b[0;34m\u001b[0m\u001b[0;34m\u001b[0m\u001b[0m\n",
            "\u001b[0;32m/usr/local/lib/python3.6/dist-packages/joblib/parallel.py\u001b[0m in \u001b[0;36m__call__\u001b[0;34m(self, iterable)\u001b[0m\n\u001b[1;32m   1030\u001b[0m                 \u001b[0mself\u001b[0m\u001b[0;34m.\u001b[0m\u001b[0m_iterating\u001b[0m \u001b[0;34m=\u001b[0m \u001b[0mself\u001b[0m\u001b[0;34m.\u001b[0m\u001b[0m_original_iterator\u001b[0m \u001b[0;32mis\u001b[0m \u001b[0;32mnot\u001b[0m \u001b[0;32mNone\u001b[0m\u001b[0;34m\u001b[0m\u001b[0;34m\u001b[0m\u001b[0m\n\u001b[1;32m   1031\u001b[0m \u001b[0;34m\u001b[0m\u001b[0m\n\u001b[0;32m-> 1032\u001b[0;31m             \u001b[0;32mwhile\u001b[0m \u001b[0mself\u001b[0m\u001b[0;34m.\u001b[0m\u001b[0mdispatch_one_batch\u001b[0m\u001b[0;34m(\u001b[0m\u001b[0miterator\u001b[0m\u001b[0;34m)\u001b[0m\u001b[0;34m:\u001b[0m\u001b[0;34m\u001b[0m\u001b[0;34m\u001b[0m\u001b[0m\n\u001b[0m\u001b[1;32m   1033\u001b[0m                 \u001b[0;32mpass\u001b[0m\u001b[0;34m\u001b[0m\u001b[0;34m\u001b[0m\u001b[0m\n\u001b[1;32m   1034\u001b[0m \u001b[0;34m\u001b[0m\u001b[0m\n",
            "\u001b[0;32m/usr/local/lib/python3.6/dist-packages/joblib/parallel.py\u001b[0m in \u001b[0;36mdispatch_one_batch\u001b[0;34m(self, iterator)\u001b[0m\n\u001b[1;32m    845\u001b[0m                 \u001b[0;32mreturn\u001b[0m \u001b[0;32mFalse\u001b[0m\u001b[0;34m\u001b[0m\u001b[0;34m\u001b[0m\u001b[0m\n\u001b[1;32m    846\u001b[0m             \u001b[0;32melse\u001b[0m\u001b[0;34m:\u001b[0m\u001b[0;34m\u001b[0m\u001b[0;34m\u001b[0m\u001b[0m\n\u001b[0;32m--> 847\u001b[0;31m                 \u001b[0mself\u001b[0m\u001b[0;34m.\u001b[0m\u001b[0m_dispatch\u001b[0m\u001b[0;34m(\u001b[0m\u001b[0mtasks\u001b[0m\u001b[0;34m)\u001b[0m\u001b[0;34m\u001b[0m\u001b[0;34m\u001b[0m\u001b[0m\n\u001b[0m\u001b[1;32m    848\u001b[0m                 \u001b[0;32mreturn\u001b[0m \u001b[0;32mTrue\u001b[0m\u001b[0;34m\u001b[0m\u001b[0;34m\u001b[0m\u001b[0m\n\u001b[1;32m    849\u001b[0m \u001b[0;34m\u001b[0m\u001b[0m\n",
            "\u001b[0;32m/usr/local/lib/python3.6/dist-packages/joblib/parallel.py\u001b[0m in \u001b[0;36m_dispatch\u001b[0;34m(self, batch)\u001b[0m\n\u001b[1;32m    763\u001b[0m         \u001b[0;32mwith\u001b[0m \u001b[0mself\u001b[0m\u001b[0;34m.\u001b[0m\u001b[0m_lock\u001b[0m\u001b[0;34m:\u001b[0m\u001b[0;34m\u001b[0m\u001b[0;34m\u001b[0m\u001b[0m\n\u001b[1;32m    764\u001b[0m             \u001b[0mjob_idx\u001b[0m \u001b[0;34m=\u001b[0m \u001b[0mlen\u001b[0m\u001b[0;34m(\u001b[0m\u001b[0mself\u001b[0m\u001b[0;34m.\u001b[0m\u001b[0m_jobs\u001b[0m\u001b[0;34m)\u001b[0m\u001b[0;34m\u001b[0m\u001b[0;34m\u001b[0m\u001b[0m\n\u001b[0;32m--> 765\u001b[0;31m             \u001b[0mjob\u001b[0m \u001b[0;34m=\u001b[0m \u001b[0mself\u001b[0m\u001b[0;34m.\u001b[0m\u001b[0m_backend\u001b[0m\u001b[0;34m.\u001b[0m\u001b[0mapply_async\u001b[0m\u001b[0;34m(\u001b[0m\u001b[0mbatch\u001b[0m\u001b[0;34m,\u001b[0m \u001b[0mcallback\u001b[0m\u001b[0;34m=\u001b[0m\u001b[0mcb\u001b[0m\u001b[0;34m)\u001b[0m\u001b[0;34m\u001b[0m\u001b[0;34m\u001b[0m\u001b[0m\n\u001b[0m\u001b[1;32m    766\u001b[0m             \u001b[0;31m# A job can complete so quickly than its callback is\u001b[0m\u001b[0;34m\u001b[0m\u001b[0;34m\u001b[0m\u001b[0;34m\u001b[0m\u001b[0m\n\u001b[1;32m    767\u001b[0m             \u001b[0;31m# called before we get here, causing self._jobs to\u001b[0m\u001b[0;34m\u001b[0m\u001b[0;34m\u001b[0m\u001b[0;34m\u001b[0m\u001b[0m\n",
            "\u001b[0;32m/usr/local/lib/python3.6/dist-packages/joblib/_parallel_backends.py\u001b[0m in \u001b[0;36mapply_async\u001b[0;34m(self, func, callback)\u001b[0m\n\u001b[1;32m    206\u001b[0m     \u001b[0;32mdef\u001b[0m \u001b[0mapply_async\u001b[0m\u001b[0;34m(\u001b[0m\u001b[0mself\u001b[0m\u001b[0;34m,\u001b[0m \u001b[0mfunc\u001b[0m\u001b[0;34m,\u001b[0m \u001b[0mcallback\u001b[0m\u001b[0;34m=\u001b[0m\u001b[0;32mNone\u001b[0m\u001b[0;34m)\u001b[0m\u001b[0;34m:\u001b[0m\u001b[0;34m\u001b[0m\u001b[0;34m\u001b[0m\u001b[0m\n\u001b[1;32m    207\u001b[0m         \u001b[0;34m\"\"\"Schedule a func to be run\"\"\"\u001b[0m\u001b[0;34m\u001b[0m\u001b[0;34m\u001b[0m\u001b[0m\n\u001b[0;32m--> 208\u001b[0;31m         \u001b[0mresult\u001b[0m \u001b[0;34m=\u001b[0m \u001b[0mImmediateResult\u001b[0m\u001b[0;34m(\u001b[0m\u001b[0mfunc\u001b[0m\u001b[0;34m)\u001b[0m\u001b[0;34m\u001b[0m\u001b[0;34m\u001b[0m\u001b[0m\n\u001b[0m\u001b[1;32m    209\u001b[0m         \u001b[0;32mif\u001b[0m \u001b[0mcallback\u001b[0m\u001b[0;34m:\u001b[0m\u001b[0;34m\u001b[0m\u001b[0;34m\u001b[0m\u001b[0m\n\u001b[1;32m    210\u001b[0m             \u001b[0mcallback\u001b[0m\u001b[0;34m(\u001b[0m\u001b[0mresult\u001b[0m\u001b[0;34m)\u001b[0m\u001b[0;34m\u001b[0m\u001b[0;34m\u001b[0m\u001b[0m\n",
            "\u001b[0;32m/usr/local/lib/python3.6/dist-packages/joblib/_parallel_backends.py\u001b[0m in \u001b[0;36m__init__\u001b[0;34m(self, batch)\u001b[0m\n\u001b[1;32m    570\u001b[0m         \u001b[0;31m# Don't delay the application, to avoid keeping the input\u001b[0m\u001b[0;34m\u001b[0m\u001b[0;34m\u001b[0m\u001b[0;34m\u001b[0m\u001b[0m\n\u001b[1;32m    571\u001b[0m         \u001b[0;31m# arguments in memory\u001b[0m\u001b[0;34m\u001b[0m\u001b[0;34m\u001b[0m\u001b[0;34m\u001b[0m\u001b[0m\n\u001b[0;32m--> 572\u001b[0;31m         \u001b[0mself\u001b[0m\u001b[0;34m.\u001b[0m\u001b[0mresults\u001b[0m \u001b[0;34m=\u001b[0m \u001b[0mbatch\u001b[0m\u001b[0;34m(\u001b[0m\u001b[0;34m)\u001b[0m\u001b[0;34m\u001b[0m\u001b[0;34m\u001b[0m\u001b[0m\n\u001b[0m\u001b[1;32m    573\u001b[0m \u001b[0;34m\u001b[0m\u001b[0m\n\u001b[1;32m    574\u001b[0m     \u001b[0;32mdef\u001b[0m \u001b[0mget\u001b[0m\u001b[0;34m(\u001b[0m\u001b[0mself\u001b[0m\u001b[0;34m)\u001b[0m\u001b[0;34m:\u001b[0m\u001b[0;34m\u001b[0m\u001b[0;34m\u001b[0m\u001b[0m\n",
            "\u001b[0;32m/usr/local/lib/python3.6/dist-packages/joblib/parallel.py\u001b[0m in \u001b[0;36m__call__\u001b[0;34m(self)\u001b[0m\n\u001b[1;32m    251\u001b[0m         \u001b[0;32mwith\u001b[0m \u001b[0mparallel_backend\u001b[0m\u001b[0;34m(\u001b[0m\u001b[0mself\u001b[0m\u001b[0;34m.\u001b[0m\u001b[0m_backend\u001b[0m\u001b[0;34m,\u001b[0m \u001b[0mn_jobs\u001b[0m\u001b[0;34m=\u001b[0m\u001b[0mself\u001b[0m\u001b[0;34m.\u001b[0m\u001b[0m_n_jobs\u001b[0m\u001b[0;34m)\u001b[0m\u001b[0;34m:\u001b[0m\u001b[0;34m\u001b[0m\u001b[0;34m\u001b[0m\u001b[0m\n\u001b[1;32m    252\u001b[0m             return [func(*args, **kwargs)\n\u001b[0;32m--> 253\u001b[0;31m                     for func, args, kwargs in self.items]\n\u001b[0m\u001b[1;32m    254\u001b[0m \u001b[0;34m\u001b[0m\u001b[0m\n\u001b[1;32m    255\u001b[0m     \u001b[0;32mdef\u001b[0m \u001b[0m__reduce__\u001b[0m\u001b[0;34m(\u001b[0m\u001b[0mself\u001b[0m\u001b[0;34m)\u001b[0m\u001b[0;34m:\u001b[0m\u001b[0;34m\u001b[0m\u001b[0;34m\u001b[0m\u001b[0m\n",
            "\u001b[0;32m/usr/local/lib/python3.6/dist-packages/joblib/parallel.py\u001b[0m in \u001b[0;36m<listcomp>\u001b[0;34m(.0)\u001b[0m\n\u001b[1;32m    251\u001b[0m         \u001b[0;32mwith\u001b[0m \u001b[0mparallel_backend\u001b[0m\u001b[0;34m(\u001b[0m\u001b[0mself\u001b[0m\u001b[0;34m.\u001b[0m\u001b[0m_backend\u001b[0m\u001b[0;34m,\u001b[0m \u001b[0mn_jobs\u001b[0m\u001b[0;34m=\u001b[0m\u001b[0mself\u001b[0m\u001b[0;34m.\u001b[0m\u001b[0m_n_jobs\u001b[0m\u001b[0;34m)\u001b[0m\u001b[0;34m:\u001b[0m\u001b[0;34m\u001b[0m\u001b[0;34m\u001b[0m\u001b[0m\n\u001b[1;32m    252\u001b[0m             return [func(*args, **kwargs)\n\u001b[0;32m--> 253\u001b[0;31m                     for func, args, kwargs in self.items]\n\u001b[0m\u001b[1;32m    254\u001b[0m \u001b[0;34m\u001b[0m\u001b[0m\n\u001b[1;32m    255\u001b[0m     \u001b[0;32mdef\u001b[0m \u001b[0m__reduce__\u001b[0m\u001b[0;34m(\u001b[0m\u001b[0mself\u001b[0m\u001b[0;34m)\u001b[0m\u001b[0;34m:\u001b[0m\u001b[0;34m\u001b[0m\u001b[0;34m\u001b[0m\u001b[0m\n",
            "\u001b[0;32m/usr/local/lib/python3.6/dist-packages/sklearn/multiclass.py\u001b[0m in \u001b[0;36m_fit_binary\u001b[0;34m(estimator, X, y, classes)\u001b[0m\n\u001b[1;32m     77\u001b[0m     \u001b[0;32melse\u001b[0m\u001b[0;34m:\u001b[0m\u001b[0;34m\u001b[0m\u001b[0;34m\u001b[0m\u001b[0m\n\u001b[1;32m     78\u001b[0m         \u001b[0mestimator\u001b[0m \u001b[0;34m=\u001b[0m \u001b[0mclone\u001b[0m\u001b[0;34m(\u001b[0m\u001b[0mestimator\u001b[0m\u001b[0;34m)\u001b[0m\u001b[0;34m\u001b[0m\u001b[0;34m\u001b[0m\u001b[0m\n\u001b[0;32m---> 79\u001b[0;31m         \u001b[0mestimator\u001b[0m\u001b[0;34m.\u001b[0m\u001b[0mfit\u001b[0m\u001b[0;34m(\u001b[0m\u001b[0mX\u001b[0m\u001b[0;34m,\u001b[0m \u001b[0my\u001b[0m\u001b[0;34m)\u001b[0m\u001b[0;34m\u001b[0m\u001b[0;34m\u001b[0m\u001b[0m\n\u001b[0m\u001b[1;32m     80\u001b[0m     \u001b[0;32mreturn\u001b[0m \u001b[0mestimator\u001b[0m\u001b[0;34m\u001b[0m\u001b[0;34m\u001b[0m\u001b[0m\n\u001b[1;32m     81\u001b[0m \u001b[0;34m\u001b[0m\u001b[0m\n",
            "\u001b[0;32m/usr/local/lib/python3.6/dist-packages/sklearn/linear_model/_logistic.py\u001b[0m in \u001b[0;36mfit\u001b[0;34m(self, X, y, sample_weight)\u001b[0m\n\u001b[1;32m   1599\u001b[0m                       \u001b[0mpenalty\u001b[0m\u001b[0;34m=\u001b[0m\u001b[0mpenalty\u001b[0m\u001b[0;34m,\u001b[0m \u001b[0mmax_squared_sum\u001b[0m\u001b[0;34m=\u001b[0m\u001b[0mmax_squared_sum\u001b[0m\u001b[0;34m,\u001b[0m\u001b[0;34m\u001b[0m\u001b[0;34m\u001b[0m\u001b[0m\n\u001b[1;32m   1600\u001b[0m                       sample_weight=sample_weight)\n\u001b[0;32m-> 1601\u001b[0;31m             for class_, warm_start_coef_ in zip(classes_, warm_start_coef))\n\u001b[0m\u001b[1;32m   1602\u001b[0m \u001b[0;34m\u001b[0m\u001b[0m\n\u001b[1;32m   1603\u001b[0m         \u001b[0mfold_coefs_\u001b[0m\u001b[0;34m,\u001b[0m \u001b[0m_\u001b[0m\u001b[0;34m,\u001b[0m \u001b[0mn_iter_\u001b[0m \u001b[0;34m=\u001b[0m \u001b[0mzip\u001b[0m\u001b[0;34m(\u001b[0m\u001b[0;34m*\u001b[0m\u001b[0mfold_coefs_\u001b[0m\u001b[0;34m)\u001b[0m\u001b[0;34m\u001b[0m\u001b[0;34m\u001b[0m\u001b[0m\n",
            "\u001b[0;32m/usr/local/lib/python3.6/dist-packages/joblib/parallel.py\u001b[0m in \u001b[0;36m__call__\u001b[0;34m(self, iterable)\u001b[0m\n\u001b[1;32m   1027\u001b[0m             \u001b[0;31m# remaining jobs.\u001b[0m\u001b[0;34m\u001b[0m\u001b[0;34m\u001b[0m\u001b[0;34m\u001b[0m\u001b[0m\n\u001b[1;32m   1028\u001b[0m             \u001b[0mself\u001b[0m\u001b[0;34m.\u001b[0m\u001b[0m_iterating\u001b[0m \u001b[0;34m=\u001b[0m \u001b[0;32mFalse\u001b[0m\u001b[0;34m\u001b[0m\u001b[0;34m\u001b[0m\u001b[0m\n\u001b[0;32m-> 1029\u001b[0;31m             \u001b[0;32mif\u001b[0m \u001b[0mself\u001b[0m\u001b[0;34m.\u001b[0m\u001b[0mdispatch_one_batch\u001b[0m\u001b[0;34m(\u001b[0m\u001b[0miterator\u001b[0m\u001b[0;34m)\u001b[0m\u001b[0;34m:\u001b[0m\u001b[0;34m\u001b[0m\u001b[0;34m\u001b[0m\u001b[0m\n\u001b[0m\u001b[1;32m   1030\u001b[0m                 \u001b[0mself\u001b[0m\u001b[0;34m.\u001b[0m\u001b[0m_iterating\u001b[0m \u001b[0;34m=\u001b[0m \u001b[0mself\u001b[0m\u001b[0;34m.\u001b[0m\u001b[0m_original_iterator\u001b[0m \u001b[0;32mis\u001b[0m \u001b[0;32mnot\u001b[0m \u001b[0;32mNone\u001b[0m\u001b[0;34m\u001b[0m\u001b[0;34m\u001b[0m\u001b[0m\n\u001b[1;32m   1031\u001b[0m \u001b[0;34m\u001b[0m\u001b[0m\n",
            "\u001b[0;32m/usr/local/lib/python3.6/dist-packages/joblib/parallel.py\u001b[0m in \u001b[0;36mdispatch_one_batch\u001b[0;34m(self, iterator)\u001b[0m\n\u001b[1;32m    845\u001b[0m                 \u001b[0;32mreturn\u001b[0m \u001b[0;32mFalse\u001b[0m\u001b[0;34m\u001b[0m\u001b[0;34m\u001b[0m\u001b[0m\n\u001b[1;32m    846\u001b[0m             \u001b[0;32melse\u001b[0m\u001b[0;34m:\u001b[0m\u001b[0;34m\u001b[0m\u001b[0;34m\u001b[0m\u001b[0m\n\u001b[0;32m--> 847\u001b[0;31m                 \u001b[0mself\u001b[0m\u001b[0;34m.\u001b[0m\u001b[0m_dispatch\u001b[0m\u001b[0;34m(\u001b[0m\u001b[0mtasks\u001b[0m\u001b[0;34m)\u001b[0m\u001b[0;34m\u001b[0m\u001b[0;34m\u001b[0m\u001b[0m\n\u001b[0m\u001b[1;32m    848\u001b[0m                 \u001b[0;32mreturn\u001b[0m \u001b[0;32mTrue\u001b[0m\u001b[0;34m\u001b[0m\u001b[0;34m\u001b[0m\u001b[0m\n\u001b[1;32m    849\u001b[0m \u001b[0;34m\u001b[0m\u001b[0m\n",
            "\u001b[0;32m/usr/local/lib/python3.6/dist-packages/joblib/parallel.py\u001b[0m in \u001b[0;36m_dispatch\u001b[0;34m(self, batch)\u001b[0m\n\u001b[1;32m    763\u001b[0m         \u001b[0;32mwith\u001b[0m \u001b[0mself\u001b[0m\u001b[0;34m.\u001b[0m\u001b[0m_lock\u001b[0m\u001b[0;34m:\u001b[0m\u001b[0;34m\u001b[0m\u001b[0;34m\u001b[0m\u001b[0m\n\u001b[1;32m    764\u001b[0m             \u001b[0mjob_idx\u001b[0m \u001b[0;34m=\u001b[0m \u001b[0mlen\u001b[0m\u001b[0;34m(\u001b[0m\u001b[0mself\u001b[0m\u001b[0;34m.\u001b[0m\u001b[0m_jobs\u001b[0m\u001b[0;34m)\u001b[0m\u001b[0;34m\u001b[0m\u001b[0;34m\u001b[0m\u001b[0m\n\u001b[0;32m--> 765\u001b[0;31m             \u001b[0mjob\u001b[0m \u001b[0;34m=\u001b[0m \u001b[0mself\u001b[0m\u001b[0;34m.\u001b[0m\u001b[0m_backend\u001b[0m\u001b[0;34m.\u001b[0m\u001b[0mapply_async\u001b[0m\u001b[0;34m(\u001b[0m\u001b[0mbatch\u001b[0m\u001b[0;34m,\u001b[0m \u001b[0mcallback\u001b[0m\u001b[0;34m=\u001b[0m\u001b[0mcb\u001b[0m\u001b[0;34m)\u001b[0m\u001b[0;34m\u001b[0m\u001b[0;34m\u001b[0m\u001b[0m\n\u001b[0m\u001b[1;32m    766\u001b[0m             \u001b[0;31m# A job can complete so quickly than its callback is\u001b[0m\u001b[0;34m\u001b[0m\u001b[0;34m\u001b[0m\u001b[0;34m\u001b[0m\u001b[0m\n\u001b[1;32m    767\u001b[0m             \u001b[0;31m# called before we get here, causing self._jobs to\u001b[0m\u001b[0;34m\u001b[0m\u001b[0;34m\u001b[0m\u001b[0;34m\u001b[0m\u001b[0m\n",
            "\u001b[0;32m/usr/local/lib/python3.6/dist-packages/joblib/_parallel_backends.py\u001b[0m in \u001b[0;36mapply_async\u001b[0;34m(self, func, callback)\u001b[0m\n\u001b[1;32m    206\u001b[0m     \u001b[0;32mdef\u001b[0m \u001b[0mapply_async\u001b[0m\u001b[0;34m(\u001b[0m\u001b[0mself\u001b[0m\u001b[0;34m,\u001b[0m \u001b[0mfunc\u001b[0m\u001b[0;34m,\u001b[0m \u001b[0mcallback\u001b[0m\u001b[0;34m=\u001b[0m\u001b[0;32mNone\u001b[0m\u001b[0;34m)\u001b[0m\u001b[0;34m:\u001b[0m\u001b[0;34m\u001b[0m\u001b[0;34m\u001b[0m\u001b[0m\n\u001b[1;32m    207\u001b[0m         \u001b[0;34m\"\"\"Schedule a func to be run\"\"\"\u001b[0m\u001b[0;34m\u001b[0m\u001b[0;34m\u001b[0m\u001b[0m\n\u001b[0;32m--> 208\u001b[0;31m         \u001b[0mresult\u001b[0m \u001b[0;34m=\u001b[0m \u001b[0mImmediateResult\u001b[0m\u001b[0;34m(\u001b[0m\u001b[0mfunc\u001b[0m\u001b[0;34m)\u001b[0m\u001b[0;34m\u001b[0m\u001b[0;34m\u001b[0m\u001b[0m\n\u001b[0m\u001b[1;32m    209\u001b[0m         \u001b[0;32mif\u001b[0m \u001b[0mcallback\u001b[0m\u001b[0;34m:\u001b[0m\u001b[0;34m\u001b[0m\u001b[0;34m\u001b[0m\u001b[0m\n\u001b[1;32m    210\u001b[0m             \u001b[0mcallback\u001b[0m\u001b[0;34m(\u001b[0m\u001b[0mresult\u001b[0m\u001b[0;34m)\u001b[0m\u001b[0;34m\u001b[0m\u001b[0;34m\u001b[0m\u001b[0m\n",
            "\u001b[0;32m/usr/local/lib/python3.6/dist-packages/joblib/_parallel_backends.py\u001b[0m in \u001b[0;36m__init__\u001b[0;34m(self, batch)\u001b[0m\n\u001b[1;32m    570\u001b[0m         \u001b[0;31m# Don't delay the application, to avoid keeping the input\u001b[0m\u001b[0;34m\u001b[0m\u001b[0;34m\u001b[0m\u001b[0;34m\u001b[0m\u001b[0m\n\u001b[1;32m    571\u001b[0m         \u001b[0;31m# arguments in memory\u001b[0m\u001b[0;34m\u001b[0m\u001b[0;34m\u001b[0m\u001b[0;34m\u001b[0m\u001b[0m\n\u001b[0;32m--> 572\u001b[0;31m         \u001b[0mself\u001b[0m\u001b[0;34m.\u001b[0m\u001b[0mresults\u001b[0m \u001b[0;34m=\u001b[0m \u001b[0mbatch\u001b[0m\u001b[0;34m(\u001b[0m\u001b[0;34m)\u001b[0m\u001b[0;34m\u001b[0m\u001b[0;34m\u001b[0m\u001b[0m\n\u001b[0m\u001b[1;32m    573\u001b[0m \u001b[0;34m\u001b[0m\u001b[0m\n\u001b[1;32m    574\u001b[0m     \u001b[0;32mdef\u001b[0m \u001b[0mget\u001b[0m\u001b[0;34m(\u001b[0m\u001b[0mself\u001b[0m\u001b[0;34m)\u001b[0m\u001b[0;34m:\u001b[0m\u001b[0;34m\u001b[0m\u001b[0;34m\u001b[0m\u001b[0m\n",
            "\u001b[0;32m/usr/local/lib/python3.6/dist-packages/joblib/parallel.py\u001b[0m in \u001b[0;36m__call__\u001b[0;34m(self)\u001b[0m\n\u001b[1;32m    251\u001b[0m         \u001b[0;32mwith\u001b[0m \u001b[0mparallel_backend\u001b[0m\u001b[0;34m(\u001b[0m\u001b[0mself\u001b[0m\u001b[0;34m.\u001b[0m\u001b[0m_backend\u001b[0m\u001b[0;34m,\u001b[0m \u001b[0mn_jobs\u001b[0m\u001b[0;34m=\u001b[0m\u001b[0mself\u001b[0m\u001b[0;34m.\u001b[0m\u001b[0m_n_jobs\u001b[0m\u001b[0;34m)\u001b[0m\u001b[0;34m:\u001b[0m\u001b[0;34m\u001b[0m\u001b[0;34m\u001b[0m\u001b[0m\n\u001b[1;32m    252\u001b[0m             return [func(*args, **kwargs)\n\u001b[0;32m--> 253\u001b[0;31m                     for func, args, kwargs in self.items]\n\u001b[0m\u001b[1;32m    254\u001b[0m \u001b[0;34m\u001b[0m\u001b[0m\n\u001b[1;32m    255\u001b[0m     \u001b[0;32mdef\u001b[0m \u001b[0m__reduce__\u001b[0m\u001b[0;34m(\u001b[0m\u001b[0mself\u001b[0m\u001b[0;34m)\u001b[0m\u001b[0;34m:\u001b[0m\u001b[0;34m\u001b[0m\u001b[0;34m\u001b[0m\u001b[0m\n",
            "\u001b[0;32m/usr/local/lib/python3.6/dist-packages/joblib/parallel.py\u001b[0m in \u001b[0;36m<listcomp>\u001b[0;34m(.0)\u001b[0m\n\u001b[1;32m    251\u001b[0m         \u001b[0;32mwith\u001b[0m \u001b[0mparallel_backend\u001b[0m\u001b[0;34m(\u001b[0m\u001b[0mself\u001b[0m\u001b[0;34m.\u001b[0m\u001b[0m_backend\u001b[0m\u001b[0;34m,\u001b[0m \u001b[0mn_jobs\u001b[0m\u001b[0;34m=\u001b[0m\u001b[0mself\u001b[0m\u001b[0;34m.\u001b[0m\u001b[0m_n_jobs\u001b[0m\u001b[0;34m)\u001b[0m\u001b[0;34m:\u001b[0m\u001b[0;34m\u001b[0m\u001b[0;34m\u001b[0m\u001b[0m\n\u001b[1;32m    252\u001b[0m             return [func(*args, **kwargs)\n\u001b[0;32m--> 253\u001b[0;31m                     for func, args, kwargs in self.items]\n\u001b[0m\u001b[1;32m    254\u001b[0m \u001b[0;34m\u001b[0m\u001b[0m\n\u001b[1;32m    255\u001b[0m     \u001b[0;32mdef\u001b[0m \u001b[0m__reduce__\u001b[0m\u001b[0;34m(\u001b[0m\u001b[0mself\u001b[0m\u001b[0;34m)\u001b[0m\u001b[0;34m:\u001b[0m\u001b[0;34m\u001b[0m\u001b[0;34m\u001b[0m\u001b[0m\n",
            "\u001b[0;32m/usr/local/lib/python3.6/dist-packages/sklearn/linear_model/_logistic.py\u001b[0m in \u001b[0;36m_logistic_regression_path\u001b[0;34m(X, y, pos_class, Cs, fit_intercept, max_iter, tol, verbose, solver, coef, class_weight, dual, penalty, intercept_scaling, multi_class, random_state, check_input, max_squared_sum, sample_weight, l1_ratio)\u001b[0m\n\u001b[1;32m    934\u001b[0m                 \u001b[0mfunc\u001b[0m\u001b[0;34m,\u001b[0m \u001b[0mw0\u001b[0m\u001b[0;34m,\u001b[0m \u001b[0mmethod\u001b[0m\u001b[0;34m=\u001b[0m\u001b[0;34m\"L-BFGS-B\"\u001b[0m\u001b[0;34m,\u001b[0m \u001b[0mjac\u001b[0m\u001b[0;34m=\u001b[0m\u001b[0;32mTrue\u001b[0m\u001b[0;34m,\u001b[0m\u001b[0;34m\u001b[0m\u001b[0;34m\u001b[0m\u001b[0m\n\u001b[1;32m    935\u001b[0m                 \u001b[0margs\u001b[0m\u001b[0;34m=\u001b[0m\u001b[0;34m(\u001b[0m\u001b[0mX\u001b[0m\u001b[0;34m,\u001b[0m \u001b[0mtarget\u001b[0m\u001b[0;34m,\u001b[0m \u001b[0;36m1.\u001b[0m \u001b[0;34m/\u001b[0m \u001b[0mC\u001b[0m\u001b[0;34m,\u001b[0m \u001b[0msample_weight\u001b[0m\u001b[0;34m)\u001b[0m\u001b[0;34m,\u001b[0m\u001b[0;34m\u001b[0m\u001b[0;34m\u001b[0m\u001b[0m\n\u001b[0;32m--> 936\u001b[0;31m                 \u001b[0moptions\u001b[0m\u001b[0;34m=\u001b[0m\u001b[0;34m{\u001b[0m\u001b[0;34m\"iprint\"\u001b[0m\u001b[0;34m:\u001b[0m \u001b[0miprint\u001b[0m\u001b[0;34m,\u001b[0m \u001b[0;34m\"gtol\"\u001b[0m\u001b[0;34m:\u001b[0m \u001b[0mtol\u001b[0m\u001b[0;34m,\u001b[0m \u001b[0;34m\"maxiter\"\u001b[0m\u001b[0;34m:\u001b[0m \u001b[0mmax_iter\u001b[0m\u001b[0;34m}\u001b[0m\u001b[0;34m\u001b[0m\u001b[0;34m\u001b[0m\u001b[0m\n\u001b[0m\u001b[1;32m    937\u001b[0m             )\n\u001b[1;32m    938\u001b[0m             n_iter_i = _check_optimize_result(\n",
            "\u001b[0;32m/usr/local/lib/python3.6/dist-packages/scipy/optimize/_minimize.py\u001b[0m in \u001b[0;36mminimize\u001b[0;34m(fun, x0, args, method, jac, hess, hessp, bounds, constraints, tol, callback, options)\u001b[0m\n\u001b[1;32m    608\u001b[0m     \u001b[0;32melif\u001b[0m \u001b[0mmeth\u001b[0m \u001b[0;34m==\u001b[0m \u001b[0;34m'l-bfgs-b'\u001b[0m\u001b[0;34m:\u001b[0m\u001b[0;34m\u001b[0m\u001b[0;34m\u001b[0m\u001b[0m\n\u001b[1;32m    609\u001b[0m         return _minimize_lbfgsb(fun, x0, args, jac, bounds,\n\u001b[0;32m--> 610\u001b[0;31m                                 callback=callback, **options)\n\u001b[0m\u001b[1;32m    611\u001b[0m     \u001b[0;32melif\u001b[0m \u001b[0mmeth\u001b[0m \u001b[0;34m==\u001b[0m \u001b[0;34m'tnc'\u001b[0m\u001b[0;34m:\u001b[0m\u001b[0;34m\u001b[0m\u001b[0;34m\u001b[0m\u001b[0m\n\u001b[1;32m    612\u001b[0m         return _minimize_tnc(fun, x0, args, jac, bounds, callback=callback,\n",
            "\u001b[0;32m/usr/local/lib/python3.6/dist-packages/scipy/optimize/lbfgsb.py\u001b[0m in \u001b[0;36m_minimize_lbfgsb\u001b[0;34m(fun, x0, args, jac, bounds, disp, maxcor, ftol, gtol, eps, maxfun, maxiter, iprint, callback, maxls, **unknown_options)\u001b[0m\n\u001b[1;32m    343\u001b[0m             \u001b[0;31m# until the completion of the current minimization iteration.\u001b[0m\u001b[0;34m\u001b[0m\u001b[0;34m\u001b[0m\u001b[0;34m\u001b[0m\u001b[0m\n\u001b[1;32m    344\u001b[0m             \u001b[0;31m# Overwrite f and g:\u001b[0m\u001b[0;34m\u001b[0m\u001b[0;34m\u001b[0m\u001b[0;34m\u001b[0m\u001b[0m\n\u001b[0;32m--> 345\u001b[0;31m             \u001b[0mf\u001b[0m\u001b[0;34m,\u001b[0m \u001b[0mg\u001b[0m \u001b[0;34m=\u001b[0m \u001b[0mfunc_and_grad\u001b[0m\u001b[0;34m(\u001b[0m\u001b[0mx\u001b[0m\u001b[0;34m)\u001b[0m\u001b[0;34m\u001b[0m\u001b[0;34m\u001b[0m\u001b[0m\n\u001b[0m\u001b[1;32m    346\u001b[0m         \u001b[0;32melif\u001b[0m \u001b[0mtask_str\u001b[0m\u001b[0;34m.\u001b[0m\u001b[0mstartswith\u001b[0m\u001b[0;34m(\u001b[0m\u001b[0;34mb'NEW_X'\u001b[0m\u001b[0;34m)\u001b[0m\u001b[0;34m:\u001b[0m\u001b[0;34m\u001b[0m\u001b[0;34m\u001b[0m\u001b[0m\n\u001b[1;32m    347\u001b[0m             \u001b[0;31m# new iteration\u001b[0m\u001b[0;34m\u001b[0m\u001b[0;34m\u001b[0m\u001b[0;34m\u001b[0m\u001b[0m\n",
            "\u001b[0;32m/usr/local/lib/python3.6/dist-packages/scipy/optimize/lbfgsb.py\u001b[0m in \u001b[0;36mfunc_and_grad\u001b[0;34m(x)\u001b[0m\n\u001b[1;32m    293\u001b[0m     \u001b[0;32melse\u001b[0m\u001b[0;34m:\u001b[0m\u001b[0;34m\u001b[0m\u001b[0;34m\u001b[0m\u001b[0m\n\u001b[1;32m    294\u001b[0m         \u001b[0;32mdef\u001b[0m \u001b[0mfunc_and_grad\u001b[0m\u001b[0;34m(\u001b[0m\u001b[0mx\u001b[0m\u001b[0;34m)\u001b[0m\u001b[0;34m:\u001b[0m\u001b[0;34m\u001b[0m\u001b[0;34m\u001b[0m\u001b[0m\n\u001b[0;32m--> 295\u001b[0;31m             \u001b[0mf\u001b[0m \u001b[0;34m=\u001b[0m \u001b[0mfun\u001b[0m\u001b[0;34m(\u001b[0m\u001b[0mx\u001b[0m\u001b[0;34m,\u001b[0m \u001b[0;34m*\u001b[0m\u001b[0margs\u001b[0m\u001b[0;34m)\u001b[0m\u001b[0;34m\u001b[0m\u001b[0;34m\u001b[0m\u001b[0m\n\u001b[0m\u001b[1;32m    296\u001b[0m             \u001b[0mg\u001b[0m \u001b[0;34m=\u001b[0m \u001b[0mjac\u001b[0m\u001b[0;34m(\u001b[0m\u001b[0mx\u001b[0m\u001b[0;34m,\u001b[0m \u001b[0;34m*\u001b[0m\u001b[0margs\u001b[0m\u001b[0;34m)\u001b[0m\u001b[0;34m\u001b[0m\u001b[0;34m\u001b[0m\u001b[0m\n\u001b[1;32m    297\u001b[0m             \u001b[0;32mreturn\u001b[0m \u001b[0mf\u001b[0m\u001b[0;34m,\u001b[0m \u001b[0mg\u001b[0m\u001b[0;34m\u001b[0m\u001b[0;34m\u001b[0m\u001b[0m\n",
            "\u001b[0;32m/usr/local/lib/python3.6/dist-packages/scipy/optimize/optimize.py\u001b[0m in \u001b[0;36mfunction_wrapper\u001b[0;34m(*wrapper_args)\u001b[0m\n\u001b[1;32m    325\u001b[0m     \u001b[0;32mdef\u001b[0m \u001b[0mfunction_wrapper\u001b[0m\u001b[0;34m(\u001b[0m\u001b[0;34m*\u001b[0m\u001b[0mwrapper_args\u001b[0m\u001b[0;34m)\u001b[0m\u001b[0;34m:\u001b[0m\u001b[0;34m\u001b[0m\u001b[0;34m\u001b[0m\u001b[0m\n\u001b[1;32m    326\u001b[0m         \u001b[0mncalls\u001b[0m\u001b[0;34m[\u001b[0m\u001b[0;36m0\u001b[0m\u001b[0;34m]\u001b[0m \u001b[0;34m+=\u001b[0m \u001b[0;36m1\u001b[0m\u001b[0;34m\u001b[0m\u001b[0;34m\u001b[0m\u001b[0m\n\u001b[0;32m--> 327\u001b[0;31m         \u001b[0;32mreturn\u001b[0m \u001b[0mfunction\u001b[0m\u001b[0;34m(\u001b[0m\u001b[0;34m*\u001b[0m\u001b[0;34m(\u001b[0m\u001b[0mwrapper_args\u001b[0m \u001b[0;34m+\u001b[0m \u001b[0margs\u001b[0m\u001b[0;34m)\u001b[0m\u001b[0;34m)\u001b[0m\u001b[0;34m\u001b[0m\u001b[0;34m\u001b[0m\u001b[0m\n\u001b[0m\u001b[1;32m    328\u001b[0m \u001b[0;34m\u001b[0m\u001b[0m\n\u001b[1;32m    329\u001b[0m     \u001b[0;32mreturn\u001b[0m \u001b[0mncalls\u001b[0m\u001b[0;34m,\u001b[0m \u001b[0mfunction_wrapper\u001b[0m\u001b[0;34m\u001b[0m\u001b[0;34m\u001b[0m\u001b[0m\n",
            "\u001b[0;32m/usr/local/lib/python3.6/dist-packages/scipy/optimize/optimize.py\u001b[0m in \u001b[0;36m__call__\u001b[0;34m(self, x, *args)\u001b[0m\n\u001b[1;32m     63\u001b[0m     \u001b[0;32mdef\u001b[0m \u001b[0m__call__\u001b[0m\u001b[0;34m(\u001b[0m\u001b[0mself\u001b[0m\u001b[0;34m,\u001b[0m \u001b[0mx\u001b[0m\u001b[0;34m,\u001b[0m \u001b[0;34m*\u001b[0m\u001b[0margs\u001b[0m\u001b[0;34m)\u001b[0m\u001b[0;34m:\u001b[0m\u001b[0;34m\u001b[0m\u001b[0;34m\u001b[0m\u001b[0m\n\u001b[1;32m     64\u001b[0m         \u001b[0mself\u001b[0m\u001b[0;34m.\u001b[0m\u001b[0mx\u001b[0m \u001b[0;34m=\u001b[0m \u001b[0mnumpy\u001b[0m\u001b[0;34m.\u001b[0m\u001b[0masarray\u001b[0m\u001b[0;34m(\u001b[0m\u001b[0mx\u001b[0m\u001b[0;34m)\u001b[0m\u001b[0;34m.\u001b[0m\u001b[0mcopy\u001b[0m\u001b[0;34m(\u001b[0m\u001b[0;34m)\u001b[0m\u001b[0;34m\u001b[0m\u001b[0;34m\u001b[0m\u001b[0m\n\u001b[0;32m---> 65\u001b[0;31m         \u001b[0mfg\u001b[0m \u001b[0;34m=\u001b[0m \u001b[0mself\u001b[0m\u001b[0;34m.\u001b[0m\u001b[0mfun\u001b[0m\u001b[0;34m(\u001b[0m\u001b[0mx\u001b[0m\u001b[0;34m,\u001b[0m \u001b[0;34m*\u001b[0m\u001b[0margs\u001b[0m\u001b[0;34m)\u001b[0m\u001b[0;34m\u001b[0m\u001b[0;34m\u001b[0m\u001b[0m\n\u001b[0m\u001b[1;32m     66\u001b[0m         \u001b[0mself\u001b[0m\u001b[0;34m.\u001b[0m\u001b[0mjac\u001b[0m \u001b[0;34m=\u001b[0m \u001b[0mfg\u001b[0m\u001b[0;34m[\u001b[0m\u001b[0;36m1\u001b[0m\u001b[0;34m]\u001b[0m\u001b[0;34m\u001b[0m\u001b[0;34m\u001b[0m\u001b[0m\n\u001b[1;32m     67\u001b[0m         \u001b[0;32mreturn\u001b[0m \u001b[0mfg\u001b[0m\u001b[0;34m[\u001b[0m\u001b[0;36m0\u001b[0m\u001b[0;34m]\u001b[0m\u001b[0;34m\u001b[0m\u001b[0;34m\u001b[0m\u001b[0m\n",
            "\u001b[0;32m/usr/local/lib/python3.6/dist-packages/sklearn/linear_model/_logistic.py\u001b[0m in \u001b[0;36m_logistic_loss_and_grad\u001b[0;34m(w, X, y, alpha, sample_weight)\u001b[0m\n\u001b[1;32m    127\u001b[0m     \u001b[0mz0\u001b[0m \u001b[0;34m=\u001b[0m \u001b[0msample_weight\u001b[0m \u001b[0;34m*\u001b[0m \u001b[0;34m(\u001b[0m\u001b[0mz\u001b[0m \u001b[0;34m-\u001b[0m \u001b[0;36m1\u001b[0m\u001b[0;34m)\u001b[0m \u001b[0;34m*\u001b[0m \u001b[0my\u001b[0m\u001b[0;34m\u001b[0m\u001b[0;34m\u001b[0m\u001b[0m\n\u001b[1;32m    128\u001b[0m \u001b[0;34m\u001b[0m\u001b[0m\n\u001b[0;32m--> 129\u001b[0;31m     \u001b[0mgrad\u001b[0m\u001b[0;34m[\u001b[0m\u001b[0;34m:\u001b[0m\u001b[0mn_features\u001b[0m\u001b[0;34m]\u001b[0m \u001b[0;34m=\u001b[0m \u001b[0msafe_sparse_dot\u001b[0m\u001b[0;34m(\u001b[0m\u001b[0mX\u001b[0m\u001b[0;34m.\u001b[0m\u001b[0mT\u001b[0m\u001b[0;34m,\u001b[0m \u001b[0mz0\u001b[0m\u001b[0;34m)\u001b[0m \u001b[0;34m+\u001b[0m \u001b[0malpha\u001b[0m \u001b[0;34m*\u001b[0m \u001b[0mw\u001b[0m\u001b[0;34m\u001b[0m\u001b[0;34m\u001b[0m\u001b[0m\n\u001b[0m\u001b[1;32m    130\u001b[0m \u001b[0;34m\u001b[0m\u001b[0m\n\u001b[1;32m    131\u001b[0m     \u001b[0;31m# Case where we fit the intercept.\u001b[0m\u001b[0;34m\u001b[0m\u001b[0;34m\u001b[0m\u001b[0;34m\u001b[0m\u001b[0m\n",
            "\u001b[0;32m/usr/local/lib/python3.6/dist-packages/sklearn/utils/extmath.py\u001b[0m in \u001b[0;36msafe_sparse_dot\u001b[0;34m(a, b, dense_output)\u001b[0m\n\u001b[1;32m    149\u001b[0m             \u001b[0mret\u001b[0m \u001b[0;34m=\u001b[0m \u001b[0mnp\u001b[0m\u001b[0;34m.\u001b[0m\u001b[0mdot\u001b[0m\u001b[0;34m(\u001b[0m\u001b[0ma\u001b[0m\u001b[0;34m,\u001b[0m \u001b[0mb\u001b[0m\u001b[0;34m)\u001b[0m\u001b[0;34m\u001b[0m\u001b[0;34m\u001b[0m\u001b[0m\n\u001b[1;32m    150\u001b[0m     \u001b[0;32melse\u001b[0m\u001b[0;34m:\u001b[0m\u001b[0;34m\u001b[0m\u001b[0;34m\u001b[0m\u001b[0m\n\u001b[0;32m--> 151\u001b[0;31m         \u001b[0mret\u001b[0m \u001b[0;34m=\u001b[0m \u001b[0ma\u001b[0m \u001b[0;34m@\u001b[0m \u001b[0mb\u001b[0m\u001b[0;34m\u001b[0m\u001b[0;34m\u001b[0m\u001b[0m\n\u001b[0m\u001b[1;32m    152\u001b[0m \u001b[0;34m\u001b[0m\u001b[0m\n\u001b[1;32m    153\u001b[0m     if (sparse.issparse(a) and sparse.issparse(b)\n",
            "\u001b[0;31mKeyboardInterrupt\u001b[0m: "
          ]
        }
      ]
    },
    {
      "cell_type": "markdown",
      "metadata": {
        "id": "vuNa2phGgbvH",
        "colab_type": "text"
      },
      "source": [
        "### Optimización TFIDF FASE 2"
      ]
    },
    {
      "cell_type": "markdown",
      "metadata": {
        "id": "88HBaa0R58Bd",
        "colab_type": "text"
      },
      "source": [
        "Ahora acotamos un poco los límites de los parámetros e incluimos ngramas hasta combinaciones de 2 palabras"
      ]
    },
    {
      "cell_type": "code",
      "metadata": {
        "id": "94w0-LXCgZ08",
        "colab_type": "code",
        "colab": {
          "base_uri": "https://localhost:8080/",
          "height": 34
        },
        "outputId": "707b1a4f-4dff-46a5-ddbd-4b07a4bf0220"
      },
      "source": [
        "\n",
        "maxdf=[0.5,0.55,0.6,0.65,0.68]\n",
        "mindf=[0.0,0.00001,0.0001,0.001]\n",
        "maxfeat=[30000,35000,40000,42000,45000,47000]\n",
        "maxngram=[1,2]\n",
        "\n",
        "for i in range(0,len(maxdf)):\n",
        "  for j in range(0,len(maxfeat)):\n",
        "    for k in range(0,len(mindf)):\n",
        "      for l in range(0,len(maxngram)): \n",
        "        lr = LogisticRegression()\n",
        "        clog = OneVsRestClassifier(lr)\n",
        "        tfvect= TfidfVectorizer(max_df=maxdf[i], max_features=maxfeat[j],min_df=mindf[k],ngram_range=(maxngram[l],2))   \n",
        "        Xtf=pd.DataFrame(tfvect.fit_transform(dataTraining2['clean_plot']).toarray(), columns=tfvect.get_feature_names())\n",
        "        X_fin=Xtf.iloc[0:7895]\n",
        "        xtrain, xval, ytrain, yval = train_test_split(X_fin, y, test_size=0.2, random_state=9)\n",
        "        clog.fit(xtrain, ytrain)\n",
        "        y_pred = clog.predict_proba(xval)\n",
        "        auc=roc_auc_score(yval, y_pred, average='macro')\n",
        "        #auc_par=print(\"auc\",auc,\"maxdf\",maxdf[i],\"max_feat\",maxfeat[j],\"mindf\",mindf[k])\n",
        "        #auc_vec.append(auc_par)\n",
        "        print(\"auc\",auc,\"maxdf\",maxdf[i],\"max_feat\",maxfeat[j],\"mindf\",mindf[k],\"max_ngram\",maxngram[l],2)"
      ],
      "execution_count": null,
      "outputs": [
        {
          "output_type": "stream",
          "text": [
            "auc 0.8844401815034653 maxdf 0.5 max_feat 40000 mindf 0.0 max_ngram 1 2\n"
          ],
          "name": "stdout"
        }
      ]
    },
    {
      "cell_type": "markdown",
      "metadata": {
        "id": "fbS8Shbi3hGO",
        "colab_type": "text"
      },
      "source": [
        "Despues de realizar la optimización del TF-IDF, e ir acotando los límites de cada parámetro los mejores parámetros son max_df= 0.5 (Cota superior de pesos considerados en el TF-IDF), min_df=0.0 (Cota inferior de pesos considerados en el TF-IDF), max_feature=40000 (longitud máxima de tokens considerados en la matriz de pesos)y ngram_range= (1,2), es decir combinando unigramas y bigramas. \n",
        "\n",
        "## SVM Con optimización de parámetros"
      ]
    },
    {
      "cell_type": "code",
      "metadata": {
        "id": "QYGowtAuerR8",
        "colab_type": "code",
        "colab": {}
      },
      "source": [
        "pipe3=Pipeline([('TFidf',TfidfVectorizer()),('SVC', OneVsRestClassifier(SVC(probability=True,kernel=\"rbf\")))])"
      ],
      "execution_count": null,
      "outputs": []
    },
    {
      "cell_type": "code",
      "metadata": {
        "id": "L1PvgNYj65sJ",
        "colab_type": "code",
        "colab": {
          "base_uri": "https://localhost:8080/",
          "height": 67
        },
        "outputId": "decf3ab4-2020-4f71-c4af-78d7abf18f1d"
      },
      "source": [
        "parameters = {\n",
        "                'TFidf__max_df': (0.25, 0.5, 0.75),\n",
        "                'TFidf__ngram_range': [(1, 1), (1, 2), (1, 3)],\n",
        "                \"SVC__estimator__C\": [0.01, 0.1, 1, 10, 100],\n",
        "                #\"SVC__estimator__class_weight\": ['balanced', None]#,\n",
        "                #\"SVC__kernel\":['rbf']\n",
        "            }\n",
        "\n",
        "grid_search_tune = GridSearchCV(pipe3, parameters, cv=2, n_jobs=-1, verbose=10)\n",
        "grid_search_tune.fit(X_train_1['clean_plot'], y_train_genres_1)\n",
        "\n",
        "grid_search(X_train_1['clean_plot'], y_train_genres_1, X_test_1['clean_plot'], y_test_genres, genres, parameters, pipe3)"
      ],
      "execution_count": null,
      "outputs": [
        {
          "output_type": "execute_result",
          "data": {
            "application/vnd.google.colaboratory.intrinsic": {
              "type": "string"
            },
            "text/plain": [
              "'\\nparameters = {\\n                \\'TFidf__max_df\\': (0.25, 0.5, 0.75),\\n                \\'TFidf__ngram_range\\': [(1, 1), (1, 2), (1, 3)],\\n                \"SVC__estimator__C\": [0.01, 0.1, 1, 10, 100],\\n                #\"SVC__estimator__class_weight\": [\\'balanced\\', None]#,\\n                #\"SVC__kernel\":[\\'rbf\\']\\n            }\\n\\ngrid_search_tune = GridSearchCV(pipe3, parameters, cv=2, n_jobs=-1, verbose=10)\\ngrid_search_tune.fit(X_train_1[\\'clean_plot\\'], y_train_genres_1)\\n'"
            ]
          },
          "metadata": {
            "tags": []
          },
          "execution_count": 93
        }
      ]
    },
    {
      "cell_type": "markdown",
      "metadata": {
        "id": "N0uEN2qjezzY",
        "colab_type": "text"
      },
      "source": [
        "Finalmente la mejor combinación de parámetros para este modelo fue max_df=0.25, n_gram=(1,1), kernel='rbf' y C=1"
      ]
    },
    {
      "cell_type": "code",
      "metadata": {
        "colab_type": "code",
        "id": "gxVB48W9eyBb",
        "colab": {}
      },
      "source": [
        "pipe3=Pipeline([('TFidf',TfidfVectorizer(max_df=0.25,ngram_range=(1, 1))),('SVC', OneVsRestClassifier(SVC(probability=True,class_weight='balanced',C=1,kernel='rbf')))])"
      ],
      "execution_count": null,
      "outputs": []
    },
    {
      "cell_type": "code",
      "metadata": {
        "colab_type": "code",
        "id": "CsPwIMGGeyBc",
        "colab": {
          "base_uri": "https://localhost:8080/",
          "height": 472
        },
        "outputId": "57b80c78-4a2e-4568-bf4f-a8d8f1a4c663"
      },
      "source": [
        "pipe3.fit(X_train_1['clean_plot'],y_train_genres_1)"
      ],
      "execution_count": null,
      "outputs": [
        {
          "output_type": "execute_result",
          "data": {
            "text/plain": [
              "Pipeline(memory=None,\n",
              "         steps=[('TFidf',\n",
              "                 TfidfVectorizer(analyzer='word', binary=False,\n",
              "                                 decode_error='strict',\n",
              "                                 dtype=<class 'numpy.float64'>,\n",
              "                                 encoding='utf-8', input='content',\n",
              "                                 lowercase=True, max_df=0.25, max_features=None,\n",
              "                                 min_df=1, ngram_range=(1, 1), norm='l2',\n",
              "                                 preprocessor=None, smooth_idf=True,\n",
              "                                 stop_words=None, strip_accents=None,\n",
              "                                 sublinear_tf=False,\n",
              "                                 token_pattern=...\\w\\\\w+\\\\b',\n",
              "                                 tokenizer=None, use_idf=True,\n",
              "                                 vocabulary=None)),\n",
              "                ('SVC',\n",
              "                 OneVsRestClassifier(estimator=SVC(C=1, break_ties=False,\n",
              "                                                   cache_size=200,\n",
              "                                                   class_weight='balanced',\n",
              "                                                   coef0=0.0,\n",
              "                                                   decision_function_shape='ovr',\n",
              "                                                   degree=3, gamma='scale',\n",
              "                                                   kernel='rbf', max_iter=-1,\n",
              "                                                   probability=True,\n",
              "                                                   random_state=None,\n",
              "                                                   shrinking=True, tol=0.001,\n",
              "                                                   verbose=False),\n",
              "                                     n_jobs=None))],\n",
              "         verbose=False)"
            ]
          },
          "metadata": {
            "tags": []
          },
          "execution_count": 96
        }
      ]
    },
    {
      "cell_type": "code",
      "metadata": {
        "colab_type": "code",
        "id": "jAEBt_vreyBe",
        "colab": {
          "base_uri": "https://localhost:8080/",
          "height": 411
        },
        "outputId": "dd51959f-f826-4766-e0d6-c761e6594506"
      },
      "source": [
        "predicted3=pipe3.predict_proba(X_test_1['clean_plot'])\n",
        "pd.DataFrame(predicted3)"
      ],
      "execution_count": null,
      "outputs": [
        {
          "output_type": "execute_result",
          "data": {
            "text/html": [
              "<div>\n",
              "<style scoped>\n",
              "    .dataframe tbody tr th:only-of-type {\n",
              "        vertical-align: middle;\n",
              "    }\n",
              "\n",
              "    .dataframe tbody tr th {\n",
              "        vertical-align: top;\n",
              "    }\n",
              "\n",
              "    .dataframe thead th {\n",
              "        text-align: right;\n",
              "    }\n",
              "</style>\n",
              "<table border=\"1\" class=\"dataframe\">\n",
              "  <thead>\n",
              "    <tr style=\"text-align: right;\">\n",
              "      <th></th>\n",
              "      <th>0</th>\n",
              "      <th>1</th>\n",
              "      <th>2</th>\n",
              "      <th>3</th>\n",
              "      <th>4</th>\n",
              "      <th>5</th>\n",
              "      <th>6</th>\n",
              "      <th>7</th>\n",
              "      <th>8</th>\n",
              "      <th>9</th>\n",
              "      <th>10</th>\n",
              "      <th>11</th>\n",
              "      <th>12</th>\n",
              "      <th>13</th>\n",
              "      <th>14</th>\n",
              "      <th>15</th>\n",
              "      <th>16</th>\n",
              "      <th>17</th>\n",
              "      <th>18</th>\n",
              "      <th>19</th>\n",
              "      <th>20</th>\n",
              "      <th>21</th>\n",
              "      <th>22</th>\n",
              "      <th>23</th>\n",
              "    </tr>\n",
              "  </thead>\n",
              "  <tbody>\n",
              "    <tr>\n",
              "      <th>0</th>\n",
              "      <td>0.024910</td>\n",
              "      <td>0.027293</td>\n",
              "      <td>0.003362</td>\n",
              "      <td>0.018705</td>\n",
              "      <td>0.045530</td>\n",
              "      <td>0.364558</td>\n",
              "      <td>0.091274</td>\n",
              "      <td>0.761363</td>\n",
              "      <td>0.012135</td>\n",
              "      <td>0.051725</td>\n",
              "      <td>0.006862</td>\n",
              "      <td>0.023774</td>\n",
              "      <td>0.190074</td>\n",
              "      <td>0.014883</td>\n",
              "      <td>0.003068</td>\n",
              "      <td>0.033811</td>\n",
              "      <td>0.001473</td>\n",
              "      <td>0.065925</td>\n",
              "      <td>0.012934</td>\n",
              "      <td>0.006115</td>\n",
              "      <td>0.006476</td>\n",
              "      <td>0.372001</td>\n",
              "      <td>0.009084</td>\n",
              "      <td>0.011303</td>\n",
              "    </tr>\n",
              "    <tr>\n",
              "      <th>1</th>\n",
              "      <td>0.079060</td>\n",
              "      <td>0.359578</td>\n",
              "      <td>0.017375</td>\n",
              "      <td>0.088128</td>\n",
              "      <td>0.166376</td>\n",
              "      <td>0.013628</td>\n",
              "      <td>0.008642</td>\n",
              "      <td>0.610139</td>\n",
              "      <td>0.102901</td>\n",
              "      <td>0.030228</td>\n",
              "      <td>0.019396</td>\n",
              "      <td>0.183438</td>\n",
              "      <td>0.003627</td>\n",
              "      <td>0.002247</td>\n",
              "      <td>0.024070</td>\n",
              "      <td>0.075261</td>\n",
              "      <td>0.000566</td>\n",
              "      <td>0.221808</td>\n",
              "      <td>0.013059</td>\n",
              "      <td>0.008077</td>\n",
              "      <td>0.004889</td>\n",
              "      <td>0.100724</td>\n",
              "      <td>0.984006</td>\n",
              "      <td>0.000623</td>\n",
              "    </tr>\n",
              "    <tr>\n",
              "      <th>2</th>\n",
              "      <td>0.684066</td>\n",
              "      <td>0.262893</td>\n",
              "      <td>0.021227</td>\n",
              "      <td>0.018489</td>\n",
              "      <td>0.080691</td>\n",
              "      <td>0.074631</td>\n",
              "      <td>0.012922</td>\n",
              "      <td>0.137944</td>\n",
              "      <td>0.021427</td>\n",
              "      <td>0.035069</td>\n",
              "      <td>0.006653</td>\n",
              "      <td>0.012586</td>\n",
              "      <td>0.687017</td>\n",
              "      <td>0.009750</td>\n",
              "      <td>0.007915</td>\n",
              "      <td>0.100608</td>\n",
              "      <td>0.000808</td>\n",
              "      <td>0.020173</td>\n",
              "      <td>0.967897</td>\n",
              "      <td>0.004868</td>\n",
              "      <td>0.002410</td>\n",
              "      <td>0.467726</td>\n",
              "      <td>0.006540</td>\n",
              "      <td>0.002570</td>\n",
              "    </tr>\n",
              "    <tr>\n",
              "      <th>3</th>\n",
              "      <td>0.473443</td>\n",
              "      <td>0.146145</td>\n",
              "      <td>0.012652</td>\n",
              "      <td>0.022054</td>\n",
              "      <td>0.133267</td>\n",
              "      <td>0.291540</td>\n",
              "      <td>0.001903</td>\n",
              "      <td>0.454964</td>\n",
              "      <td>0.010909</td>\n",
              "      <td>0.020703</td>\n",
              "      <td>0.008525</td>\n",
              "      <td>0.029178</td>\n",
              "      <td>0.043947</td>\n",
              "      <td>0.017046</td>\n",
              "      <td>0.048586</td>\n",
              "      <td>0.079912</td>\n",
              "      <td>0.000574</td>\n",
              "      <td>0.058849</td>\n",
              "      <td>0.018985</td>\n",
              "      <td>0.003759</td>\n",
              "      <td>0.002406</td>\n",
              "      <td>0.321167</td>\n",
              "      <td>0.071033</td>\n",
              "      <td>0.339782</td>\n",
              "    </tr>\n",
              "    <tr>\n",
              "      <th>4</th>\n",
              "      <td>0.332001</td>\n",
              "      <td>0.293510</td>\n",
              "      <td>0.011129</td>\n",
              "      <td>0.037842</td>\n",
              "      <td>0.228121</td>\n",
              "      <td>0.048077</td>\n",
              "      <td>0.097127</td>\n",
              "      <td>0.252867</td>\n",
              "      <td>0.031005</td>\n",
              "      <td>0.563508</td>\n",
              "      <td>0.008017</td>\n",
              "      <td>0.065456</td>\n",
              "      <td>0.216072</td>\n",
              "      <td>0.021710</td>\n",
              "      <td>0.008861</td>\n",
              "      <td>0.019596</td>\n",
              "      <td>0.000582</td>\n",
              "      <td>0.042746</td>\n",
              "      <td>0.429404</td>\n",
              "      <td>0.017352</td>\n",
              "      <td>0.006533</td>\n",
              "      <td>0.116257</td>\n",
              "      <td>0.030785</td>\n",
              "      <td>0.000487</td>\n",
              "    </tr>\n",
              "    <tr>\n",
              "      <th>...</th>\n",
              "      <td>...</td>\n",
              "      <td>...</td>\n",
              "      <td>...</td>\n",
              "      <td>...</td>\n",
              "      <td>...</td>\n",
              "      <td>...</td>\n",
              "      <td>...</td>\n",
              "      <td>...</td>\n",
              "      <td>...</td>\n",
              "      <td>...</td>\n",
              "      <td>...</td>\n",
              "      <td>...</td>\n",
              "      <td>...</td>\n",
              "      <td>...</td>\n",
              "      <td>...</td>\n",
              "      <td>...</td>\n",
              "      <td>...</td>\n",
              "      <td>...</td>\n",
              "      <td>...</td>\n",
              "      <td>...</td>\n",
              "      <td>...</td>\n",
              "      <td>...</td>\n",
              "      <td>...</td>\n",
              "      <td>...</td>\n",
              "    </tr>\n",
              "    <tr>\n",
              "      <th>2601</th>\n",
              "      <td>0.010814</td>\n",
              "      <td>0.009154</td>\n",
              "      <td>0.003105</td>\n",
              "      <td>0.040450</td>\n",
              "      <td>0.722586</td>\n",
              "      <td>0.029443</td>\n",
              "      <td>0.002698</td>\n",
              "      <td>0.854117</td>\n",
              "      <td>0.015394</td>\n",
              "      <td>0.007424</td>\n",
              "      <td>0.013836</td>\n",
              "      <td>0.004212</td>\n",
              "      <td>0.008161</td>\n",
              "      <td>0.280075</td>\n",
              "      <td>0.032377</td>\n",
              "      <td>0.019544</td>\n",
              "      <td>0.000567</td>\n",
              "      <td>0.342215</td>\n",
              "      <td>0.003257</td>\n",
              "      <td>0.002558</td>\n",
              "      <td>0.007109</td>\n",
              "      <td>0.048889</td>\n",
              "      <td>0.004843</td>\n",
              "      <td>0.001174</td>\n",
              "    </tr>\n",
              "    <tr>\n",
              "      <th>2602</th>\n",
              "      <td>0.074561</td>\n",
              "      <td>0.195045</td>\n",
              "      <td>0.020588</td>\n",
              "      <td>0.065251</td>\n",
              "      <td>0.163623</td>\n",
              "      <td>0.016168</td>\n",
              "      <td>0.079126</td>\n",
              "      <td>0.535244</td>\n",
              "      <td>0.053492</td>\n",
              "      <td>0.124180</td>\n",
              "      <td>0.005738</td>\n",
              "      <td>0.014708</td>\n",
              "      <td>0.093575</td>\n",
              "      <td>0.033237</td>\n",
              "      <td>0.044060</td>\n",
              "      <td>0.016180</td>\n",
              "      <td>0.001116</td>\n",
              "      <td>0.133127</td>\n",
              "      <td>0.129658</td>\n",
              "      <td>0.010195</td>\n",
              "      <td>0.009587</td>\n",
              "      <td>0.091240</td>\n",
              "      <td>0.018802</td>\n",
              "      <td>0.002722</td>\n",
              "    </tr>\n",
              "    <tr>\n",
              "      <th>2603</th>\n",
              "      <td>0.017154</td>\n",
              "      <td>0.097457</td>\n",
              "      <td>0.150099</td>\n",
              "      <td>0.079016</td>\n",
              "      <td>0.309535</td>\n",
              "      <td>0.440285</td>\n",
              "      <td>0.004429</td>\n",
              "      <td>0.719839</td>\n",
              "      <td>0.543946</td>\n",
              "      <td>0.083525</td>\n",
              "      <td>0.006071</td>\n",
              "      <td>0.005594</td>\n",
              "      <td>0.020165</td>\n",
              "      <td>0.003518</td>\n",
              "      <td>0.005487</td>\n",
              "      <td>0.011966</td>\n",
              "      <td>0.001712</td>\n",
              "      <td>0.090875</td>\n",
              "      <td>0.014708</td>\n",
              "      <td>0.004257</td>\n",
              "      <td>0.005025</td>\n",
              "      <td>0.131182</td>\n",
              "      <td>0.000505</td>\n",
              "      <td>0.004963</td>\n",
              "    </tr>\n",
              "    <tr>\n",
              "      <th>2604</th>\n",
              "      <td>0.000924</td>\n",
              "      <td>0.026958</td>\n",
              "      <td>0.008015</td>\n",
              "      <td>0.032482</td>\n",
              "      <td>0.465515</td>\n",
              "      <td>0.045596</td>\n",
              "      <td>0.001578</td>\n",
              "      <td>0.911931</td>\n",
              "      <td>0.064737</td>\n",
              "      <td>0.025028</td>\n",
              "      <td>0.012352</td>\n",
              "      <td>0.003244</td>\n",
              "      <td>0.227222</td>\n",
              "      <td>0.014672</td>\n",
              "      <td>0.002057</td>\n",
              "      <td>0.288957</td>\n",
              "      <td>0.000431</td>\n",
              "      <td>0.311424</td>\n",
              "      <td>0.012280</td>\n",
              "      <td>0.004733</td>\n",
              "      <td>0.010996</td>\n",
              "      <td>0.275579</td>\n",
              "      <td>0.001087</td>\n",
              "      <td>0.000065</td>\n",
              "    </tr>\n",
              "    <tr>\n",
              "      <th>2605</th>\n",
              "      <td>0.271673</td>\n",
              "      <td>0.055751</td>\n",
              "      <td>0.006428</td>\n",
              "      <td>0.038547</td>\n",
              "      <td>0.006567</td>\n",
              "      <td>0.500000</td>\n",
              "      <td>0.003671</td>\n",
              "      <td>0.143290</td>\n",
              "      <td>0.012748</td>\n",
              "      <td>0.676008</td>\n",
              "      <td>0.075910</td>\n",
              "      <td>0.003863</td>\n",
              "      <td>0.971549</td>\n",
              "      <td>0.006387</td>\n",
              "      <td>0.015086</td>\n",
              "      <td>0.563161</td>\n",
              "      <td>0.000449</td>\n",
              "      <td>0.018085</td>\n",
              "      <td>0.009531</td>\n",
              "      <td>0.029651</td>\n",
              "      <td>0.006765</td>\n",
              "      <td>0.689912</td>\n",
              "      <td>0.001414</td>\n",
              "      <td>0.000713</td>\n",
              "    </tr>\n",
              "  </tbody>\n",
              "</table>\n",
              "<p>2606 rows × 24 columns</p>\n",
              "</div>"
            ],
            "text/plain": [
              "            0         1         2   ...        21        22        23\n",
              "0     0.024910  0.027293  0.003362  ...  0.372001  0.009084  0.011303\n",
              "1     0.079060  0.359578  0.017375  ...  0.100724  0.984006  0.000623\n",
              "2     0.684066  0.262893  0.021227  ...  0.467726  0.006540  0.002570\n",
              "3     0.473443  0.146145  0.012652  ...  0.321167  0.071033  0.339782\n",
              "4     0.332001  0.293510  0.011129  ...  0.116257  0.030785  0.000487\n",
              "...        ...       ...       ...  ...       ...       ...       ...\n",
              "2601  0.010814  0.009154  0.003105  ...  0.048889  0.004843  0.001174\n",
              "2602  0.074561  0.195045  0.020588  ...  0.091240  0.018802  0.002722\n",
              "2603  0.017154  0.097457  0.150099  ...  0.131182  0.000505  0.004963\n",
              "2604  0.000924  0.026958  0.008015  ...  0.275579  0.001087  0.000065\n",
              "2605  0.271673  0.055751  0.006428  ...  0.689912  0.001414  0.000713\n",
              "\n",
              "[2606 rows x 24 columns]"
            ]
          },
          "metadata": {
            "tags": []
          },
          "execution_count": 97
        }
      ]
    },
    {
      "cell_type": "code",
      "metadata": {
        "colab_type": "code",
        "id": "c2sUHhGreyBf",
        "colab": {
          "base_uri": "https://localhost:8080/",
          "height": 33
        },
        "outputId": "b716f981-968f-42b9-c4a9-2f7f6ae86f5d"
      },
      "source": [
        "roc_auc_score(y_test_genres, predicted3, average='macro')"
      ],
      "execution_count": null,
      "outputs": [
        {
          "output_type": "execute_result",
          "data": {
            "text/plain": [
              "0.8712507031106519"
            ]
          },
          "metadata": {
            "tags": []
          },
          "execution_count": 98
        }
      ]
    },
    {
      "cell_type": "markdown",
      "metadata": {
        "id": "13BJTocMfHh2",
        "colab_type": "text"
      },
      "source": [
        "Finalmente, fue este modelo el que mejores resultados presentó sobre la muestra de Test de la competencia; sin embargo, es computacionalmente muy pesado para montar la API por ello se decide montar otro modelo con buen desempeño."
      ]
    },
    {
      "cell_type": "markdown",
      "metadata": {
        "id": "vA3roeDG9RaM",
        "colab_type": "text"
      },
      "source": [
        "## Ramdon Forest Model (API)"
      ]
    },
    {
      "cell_type": "markdown",
      "metadata": {
        "id": "6dyfwopZ9WM5",
        "colab_type": "text"
      },
      "source": [
        "Debido al peso del mejor modelo y como avanzamos en paralelo con el montado de la API, esta está ajustada con un modelo de Ramdonforest con 100 árboles (n_estimators=100) y una profundidad máxima de 10 (max_depth=10), igual manteniendo el OneVsRestClassifier para el Multilabel de la variables respuesta"
      ]
    },
    {
      "cell_type": "code",
      "metadata": {
        "id": "pndbkuA-8bW6",
        "colab_type": "code",
        "colab": {}
      },
      "source": [
        "clf = OneVsRestClassifier(RandomForestClassifier(n_jobs=-1, n_estimators=100, max_depth=10, random_state=42))"
      ],
      "execution_count": null,
      "outputs": []
    },
    {
      "cell_type": "code",
      "metadata": {
        "id": "FnyeVxot8bW9",
        "colab_type": "code",
        "colab": {},
        "outputId": "b98da0ee-d783-4e4f-bcce-504d4c0db0f3"
      },
      "source": [
        "clf.fit(X_train, y_train_genres)"
      ],
      "execution_count": null,
      "outputs": [
        {
          "output_type": "execute_result",
          "data": {
            "text/plain": [
              "OneVsRestClassifier(estimator=RandomForestClassifier(max_depth=10, n_jobs=-1,\n",
              "                                                     random_state=42))"
            ]
          },
          "metadata": {
            "tags": []
          },
          "execution_count": 14
        }
      ]
    },
    {
      "cell_type": "code",
      "metadata": {
        "id": "q_pmbxjL8bXB",
        "colab_type": "code",
        "colab": {}
      },
      "source": [
        "y_pred_genres = clf.predict_proba(X_test)"
      ],
      "execution_count": null,
      "outputs": []
    },
    {
      "cell_type": "code",
      "metadata": {
        "id": "9GwFt_F98bXE",
        "colab_type": "code",
        "colab": {},
        "outputId": "e78c466f-5d1e-4ab8-ebc7-c0b3d1379ad3"
      },
      "source": [
        "roc_auc_score(y_test_genres, y_pred_genres, average='macro')"
      ],
      "execution_count": null,
      "outputs": [
        {
          "output_type": "execute_result",
          "data": {
            "text/plain": [
              "0.7668587460707162"
            ]
          },
          "metadata": {
            "tags": []
          },
          "execution_count": 16
        }
      ]
    },
    {
      "cell_type": "markdown",
      "metadata": {
        "id": "3sM5ma8_9wNy",
        "colab_type": "text"
      },
      "source": [
        "## Exportar base Testing para la competencia en kaggle"
      ]
    },
    {
      "cell_type": "code",
      "metadata": {
        "id": "N4eqkn3Rklup",
        "colab_type": "code",
        "colab": {}
      },
      "source": [
        "X_test_dtm = vect.transform(dataTesting['clean_plot_2'])\n",
        "\n",
        "cols = ['p_Action', 'p_Adventure', 'p_Animation', 'p_Biography', 'p_Comedy', 'p_Crime', 'p_Documentary', 'p_Drama', 'p_Family',\n",
        "        'p_Fantasy', 'p_Film-Noir', 'p_History', 'p_Horror', 'p_Music', 'p_Musical', 'p_Mystery', 'p_News', 'p_Romance',\n",
        "        'p_Sci-Fi', 'p_Short', 'p_Sport', 'p_Thriller', 'p_War', 'p_Western']\n"
      ],
      "execution_count": null,
      "outputs": []
    },
    {
      "cell_type": "code",
      "metadata": {
        "id": "amjZaKGbsMYP",
        "colab_type": "code",
        "colab": {}
      },
      "source": [
        "y_pred_test_genres =pipe3.predict_proba(dataTesting['clean_plot'])"
      ],
      "execution_count": null,
      "outputs": []
    },
    {
      "cell_type": "code",
      "metadata": {
        "id": "C3DpkPRTklur",
        "colab_type": "code",
        "colab": {}
      },
      "source": [
        "res = pd.DataFrame(y_pred_test_genres, index=dataTesting.index, columns=cols)"
      ],
      "execution_count": null,
      "outputs": []
    },
    {
      "cell_type": "code",
      "metadata": {
        "id": "gUPcuEx7klut",
        "colab_type": "code",
        "colab": {
          "base_uri": "https://localhost:8080/",
          "height": 308
        },
        "outputId": "daeac9f5-567d-4ee2-abb7-272c0ff4b5ff"
      },
      "source": [
        "res.head()"
      ],
      "execution_count": null,
      "outputs": [
        {
          "output_type": "execute_result",
          "data": {
            "text/html": [
              "<div>\n",
              "<style scoped>\n",
              "    .dataframe tbody tr th:only-of-type {\n",
              "        vertical-align: middle;\n",
              "    }\n",
              "\n",
              "    .dataframe tbody tr th {\n",
              "        vertical-align: top;\n",
              "    }\n",
              "\n",
              "    .dataframe thead th {\n",
              "        text-align: right;\n",
              "    }\n",
              "</style>\n",
              "<table border=\"1\" class=\"dataframe\">\n",
              "  <thead>\n",
              "    <tr style=\"text-align: right;\">\n",
              "      <th></th>\n",
              "      <th>p_Action</th>\n",
              "      <th>p_Adventure</th>\n",
              "      <th>p_Animation</th>\n",
              "      <th>p_Biography</th>\n",
              "      <th>p_Comedy</th>\n",
              "      <th>p_Crime</th>\n",
              "      <th>p_Documentary</th>\n",
              "      <th>p_Drama</th>\n",
              "      <th>p_Family</th>\n",
              "      <th>p_Fantasy</th>\n",
              "      <th>p_Film-Noir</th>\n",
              "      <th>p_History</th>\n",
              "      <th>p_Horror</th>\n",
              "      <th>p_Music</th>\n",
              "      <th>p_Musical</th>\n",
              "      <th>p_Mystery</th>\n",
              "      <th>p_News</th>\n",
              "      <th>p_Romance</th>\n",
              "      <th>p_Sci-Fi</th>\n",
              "      <th>p_Short</th>\n",
              "      <th>p_Sport</th>\n",
              "      <th>p_Thriller</th>\n",
              "      <th>p_War</th>\n",
              "      <th>p_Western</th>\n",
              "    </tr>\n",
              "  </thead>\n",
              "  <tbody>\n",
              "    <tr>\n",
              "      <th>1</th>\n",
              "      <td>0.003999</td>\n",
              "      <td>0.002853</td>\n",
              "      <td>0.000188</td>\n",
              "      <td>0.000163</td>\n",
              "      <td>0.008126</td>\n",
              "      <td>0.004611</td>\n",
              "      <td>0.000196</td>\n",
              "      <td>0.332813</td>\n",
              "      <td>7.073591e-04</td>\n",
              "      <td>0.175499</td>\n",
              "      <td>0.000278</td>\n",
              "      <td>0.000039</td>\n",
              "      <td>0.000184</td>\n",
              "      <td>0.000407</td>\n",
              "      <td>0.001923</td>\n",
              "      <td>0.007652</td>\n",
              "      <td>0.000069</td>\n",
              "      <td>0.997460</td>\n",
              "      <td>0.000177</td>\n",
              "      <td>2.810908e-04</td>\n",
              "      <td>0.000188</td>\n",
              "      <td>0.045659</td>\n",
              "      <td>0.000140</td>\n",
              "      <td>0.000151</td>\n",
              "    </tr>\n",
              "    <tr>\n",
              "      <th>4</th>\n",
              "      <td>0.035387</td>\n",
              "      <td>0.000038</td>\n",
              "      <td>0.000396</td>\n",
              "      <td>0.048062</td>\n",
              "      <td>0.197765</td>\n",
              "      <td>0.352534</td>\n",
              "      <td>0.000366</td>\n",
              "      <td>0.966479</td>\n",
              "      <td>6.366224e-05</td>\n",
              "      <td>0.000062</td>\n",
              "      <td>0.000432</td>\n",
              "      <td>0.000063</td>\n",
              "      <td>0.003160</td>\n",
              "      <td>0.001340</td>\n",
              "      <td>0.000554</td>\n",
              "      <td>0.000114</td>\n",
              "      <td>0.000343</td>\n",
              "      <td>0.000145</td>\n",
              "      <td>0.000044</td>\n",
              "      <td>3.095654e-04</td>\n",
              "      <td>0.000482</td>\n",
              "      <td>0.172300</td>\n",
              "      <td>0.000693</td>\n",
              "      <td>0.000461</td>\n",
              "    </tr>\n",
              "    <tr>\n",
              "      <th>5</th>\n",
              "      <td>0.000093</td>\n",
              "      <td>0.000001</td>\n",
              "      <td>0.000002</td>\n",
              "      <td>0.000105</td>\n",
              "      <td>0.000057</td>\n",
              "      <td>0.974081</td>\n",
              "      <td>0.000007</td>\n",
              "      <td>0.999411</td>\n",
              "      <td>5.819659e-07</td>\n",
              "      <td>0.000001</td>\n",
              "      <td>0.000686</td>\n",
              "      <td>0.000008</td>\n",
              "      <td>0.000001</td>\n",
              "      <td>0.000008</td>\n",
              "      <td>0.000004</td>\n",
              "      <td>0.251879</td>\n",
              "      <td>0.000003</td>\n",
              "      <td>0.000097</td>\n",
              "      <td>0.000250</td>\n",
              "      <td>1.898161e-06</td>\n",
              "      <td>0.000010</td>\n",
              "      <td>0.818085</td>\n",
              "      <td>0.000020</td>\n",
              "      <td>0.000008</td>\n",
              "    </tr>\n",
              "    <tr>\n",
              "      <th>6</th>\n",
              "      <td>0.000133</td>\n",
              "      <td>0.000270</td>\n",
              "      <td>0.000001</td>\n",
              "      <td>0.000014</td>\n",
              "      <td>0.000221</td>\n",
              "      <td>0.000045</td>\n",
              "      <td>0.000010</td>\n",
              "      <td>0.999724</td>\n",
              "      <td>2.591796e-05</td>\n",
              "      <td>0.000006</td>\n",
              "      <td>0.000099</td>\n",
              "      <td>0.000514</td>\n",
              "      <td>0.000622</td>\n",
              "      <td>0.000003</td>\n",
              "      <td>0.000065</td>\n",
              "      <td>0.000042</td>\n",
              "      <td>0.000002</td>\n",
              "      <td>0.036963</td>\n",
              "      <td>0.001417</td>\n",
              "      <td>8.457588e-07</td>\n",
              "      <td>0.000009</td>\n",
              "      <td>0.808904</td>\n",
              "      <td>0.001885</td>\n",
              "      <td>0.000006</td>\n",
              "    </tr>\n",
              "    <tr>\n",
              "      <th>7</th>\n",
              "      <td>0.000018</td>\n",
              "      <td>0.000032</td>\n",
              "      <td>0.000077</td>\n",
              "      <td>0.000030</td>\n",
              "      <td>0.001509</td>\n",
              "      <td>0.000518</td>\n",
              "      <td>0.000088</td>\n",
              "      <td>0.224521</td>\n",
              "      <td>3.961555e-04</td>\n",
              "      <td>0.020471</td>\n",
              "      <td>0.006144</td>\n",
              "      <td>0.000008</td>\n",
              "      <td>0.684891</td>\n",
              "      <td>0.000011</td>\n",
              "      <td>0.000040</td>\n",
              "      <td>0.004089</td>\n",
              "      <td>0.000052</td>\n",
              "      <td>0.010581</td>\n",
              "      <td>0.268359</td>\n",
              "      <td>4.581997e-05</td>\n",
              "      <td>0.000016</td>\n",
              "      <td>0.418338</td>\n",
              "      <td>0.000033</td>\n",
              "      <td>0.000080</td>\n",
              "    </tr>\n",
              "  </tbody>\n",
              "</table>\n",
              "</div>"
            ],
            "text/plain": [
              "   p_Action  p_Adventure  p_Animation  ...  p_Thriller     p_War  p_Western\n",
              "1  0.003999     0.002853     0.000188  ...    0.045659  0.000140   0.000151\n",
              "4  0.035387     0.000038     0.000396  ...    0.172300  0.000693   0.000461\n",
              "5  0.000093     0.000001     0.000002  ...    0.818085  0.000020   0.000008\n",
              "6  0.000133     0.000270     0.000001  ...    0.808904  0.001885   0.000006\n",
              "7  0.000018     0.000032     0.000077  ...    0.418338  0.000033   0.000080\n",
              "\n",
              "[5 rows x 24 columns]"
            ]
          },
          "metadata": {
            "tags": []
          },
          "execution_count": 96
        }
      ]
    },
    {
      "cell_type": "code",
      "metadata": {
        "id": "2h1IAvg3uSUs",
        "colab_type": "code",
        "colab": {
          "base_uri": "https://localhost:8080/",
          "height": 118
        },
        "outputId": "65197668-ad2e-427e-c8a8-dcbab5cb0987"
      },
      "source": [
        "from google.colab import drive\n",
        "drive.mount('/content/gdrive')"
      ],
      "execution_count": null,
      "outputs": [
        {
          "output_type": "stream",
          "text": [
            "Go to this URL in a browser: https://accounts.google.com/o/oauth2/auth?client_id=947318989803-6bn6qk8qdgf4n4g3pfee6491hc0brc4i.apps.googleusercontent.com&redirect_uri=urn%3aietf%3awg%3aoauth%3a2.0%3aoob&response_type=code&scope=email%20https%3a%2f%2fwww.googleapis.com%2fauth%2fdocs.test%20https%3a%2f%2fwww.googleapis.com%2fauth%2fdrive%20https%3a%2f%2fwww.googleapis.com%2fauth%2fdrive.photos.readonly%20https%3a%2f%2fwww.googleapis.com%2fauth%2fpeopleapi.readonly\n",
            "\n",
            "Enter your authorization code:\n",
            "··········\n",
            "Mounted at /content/gdrive\n"
          ],
          "name": "stdout"
        }
      ]
    },
    {
      "cell_type": "code",
      "metadata": {
        "id": "umwGsWLpkluu",
        "colab_type": "code",
        "colab": {}
      },
      "source": [
        "res.to_csv('/content/gdrive/My Drive/pred_genres_text_RF.csv', index_label='ID')"
      ],
      "execution_count": null,
      "outputs": []
    },
    {
      "cell_type": "markdown",
      "metadata": {
        "id": "Gfkn56L5iQnu",
        "colab_type": "text"
      },
      "source": [
        "# API Modelo Optimizado\n",
        "\n",
        "Como se comentó anteriormente, si bien el modelo que mejor desempeño tuvo fue el SVM optimizado; sin embargo este presenta un altisimo costo computacional para lo cual se vió en la necesidad de montar en la API el modelo de RandomForest mencionado arriba.\n",
        "\n"
      ]
    },
    {
      "cell_type": "markdown",
      "metadata": {
        "id": "tP8nrsF_-Baz",
        "colab_type": "text"
      },
      "source": [
        "# URL API\n",
        "**URL:** http://ec2-3-128-176-1.us-east-2.compute.amazonaws.com:5000/"
      ]
    },
    {
      "cell_type": "code",
      "metadata": {
        "id": "N0tppsv6ajWg",
        "colab_type": "code",
        "colab": {}
      },
      "source": [
        ""
      ],
      "execution_count": null,
      "outputs": []
    }
  ]
}